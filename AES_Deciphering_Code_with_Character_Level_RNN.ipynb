{
 "cells": [
  {
   "cell_type": "markdown",
   "metadata": {
    "id": "5GSMwZnsd1-u"
   },
   "source": [
    "# Deciphering Code with Character-Level RNN\n",
    "\n",
    "\n",
    "\n"
   ]
  },
  {
   "cell_type": "markdown",
   "metadata": {
    "id": "gOHhumaPBdAk"
   },
   "source": [
    "## Dataset"
   ]
  },
  {
   "cell_type": "code",
   "execution_count": 1,
   "metadata": {},
   "outputs": [],
   "source": [
    "import pandas as pd\n",
    "import numpy as np\n",
    "\n",
    "from keras.preprocessing.text import Tokenizer\n",
    "import numpy as np\n",
    "from keras.preprocessing.sequence import pad_sequences"
   ]
  },
  {
   "cell_type": "code",
   "execution_count": 2,
   "metadata": {
    "scrolled": true
   },
   "outputs": [
    {
     "data": {
      "text/html": [
       "<div>\n",
       "<style scoped>\n",
       "    .dataframe tbody tr th:only-of-type {\n",
       "        vertical-align: middle;\n",
       "    }\n",
       "\n",
       "    .dataframe tbody tr th {\n",
       "        vertical-align: top;\n",
       "    }\n",
       "\n",
       "    .dataframe thead th {\n",
       "        text-align: right;\n",
       "    }\n",
       "</style>\n",
       "<table border=\"1\" class=\"dataframe\">\n",
       "  <thead>\n",
       "    <tr style=\"text-align: right;\">\n",
       "      <th></th>\n",
       "      <th>Passwords</th>\n",
       "      <th>ciphertext</th>\n",
       "      <th>key</th>\n",
       "    </tr>\n",
       "  </thead>\n",
       "  <tbody>\n",
       "    <tr>\n",
       "      <th>0</th>\n",
       "      <td>2428031609</td>\n",
       "      <td>b'1092675125059b44fa88'</td>\n",
       "      <td>ZDBQ7O9F</td>\n",
       "    </tr>\n",
       "    <tr>\n",
       "      <th>1</th>\n",
       "      <td>4531040045</td>\n",
       "      <td>b'1e26ffabe380c3d0c299'</td>\n",
       "      <td>NO9EDSU0</td>\n",
       "    </tr>\n",
       "    <tr>\n",
       "      <th>2</th>\n",
       "      <td>almigrana1</td>\n",
       "      <td>b'2259ed1d208cca75004d'</td>\n",
       "      <td>4XS7R110</td>\n",
       "    </tr>\n",
       "    <tr>\n",
       "      <th>3</th>\n",
       "      <td>quiero95</td>\n",
       "      <td>b'16194b66fbca0eee'</td>\n",
       "      <td>BMZPZLBH</td>\n",
       "    </tr>\n",
       "    <tr>\n",
       "      <th>4</th>\n",
       "      <td>doitnow2</td>\n",
       "      <td>b'fab56cb16f5cd504'</td>\n",
       "      <td>19RM3TPZ</td>\n",
       "    </tr>\n",
       "    <tr>\n",
       "      <th>...</th>\n",
       "      <td>...</td>\n",
       "      <td>...</td>\n",
       "      <td>...</td>\n",
       "    </tr>\n",
       "    <tr>\n",
       "      <th>199995</th>\n",
       "      <td>dime168</td>\n",
       "      <td>b'ee2b9cf4479a64'</td>\n",
       "      <td>E68PIJK0</td>\n",
       "    </tr>\n",
       "    <tr>\n",
       "      <th>199996</th>\n",
       "      <td>!l0v3k3v!n</td>\n",
       "      <td>b'e56a59f153590322ed74'</td>\n",
       "      <td>REKBYL0P</td>\n",
       "    </tr>\n",
       "    <tr>\n",
       "      <th>199997</th>\n",
       "      <td>9870tmf05</td>\n",
       "      <td>b'0faaf9b73bc5bc9940'</td>\n",
       "      <td>3QJZBLJP</td>\n",
       "    </tr>\n",
       "    <tr>\n",
       "      <th>199998</th>\n",
       "      <td>CAMILA</td>\n",
       "      <td>b'a451626f19cb'</td>\n",
       "      <td>SOMFMV7Q</td>\n",
       "    </tr>\n",
       "    <tr>\n",
       "      <th>199999</th>\n",
       "      <td>caren14</td>\n",
       "      <td>b'2054f21129cf9f'</td>\n",
       "      <td>4XS7R110</td>\n",
       "    </tr>\n",
       "  </tbody>\n",
       "</table>\n",
       "<p>200000 rows × 3 columns</p>\n",
       "</div>"
      ],
      "text/plain": [
       "         Passwords               ciphertext       key\n",
       "0       2428031609  b'1092675125059b44fa88'  ZDBQ7O9F\n",
       "1       4531040045  b'1e26ffabe380c3d0c299'  NO9EDSU0\n",
       "2       almigrana1  b'2259ed1d208cca75004d'  4XS7R110\n",
       "3         quiero95      b'16194b66fbca0eee'  BMZPZLBH\n",
       "4         doitnow2      b'fab56cb16f5cd504'  19RM3TPZ\n",
       "...            ...                      ...       ...\n",
       "199995     dime168        b'ee2b9cf4479a64'  E68PIJK0\n",
       "199996  !l0v3k3v!n  b'e56a59f153590322ed74'  REKBYL0P\n",
       "199997   9870tmf05    b'0faaf9b73bc5bc9940'  3QJZBLJP\n",
       "199998      CAMILA          b'a451626f19cb'  SOMFMV7Q\n",
       "199999     caren14        b'2054f21129cf9f'  4XS7R110\n",
       "\n",
       "[200000 rows x 3 columns]"
      ]
     },
     "execution_count": 2,
     "metadata": {},
     "output_type": "execute_result"
    }
   ],
   "source": [
    "df = pd.read_csv('./data/AES.csv')\n",
    "df"
   ]
  },
  {
   "cell_type": "code",
   "execution_count": 3,
   "metadata": {},
   "outputs": [
    {
     "data": {
      "text/html": [
       "<div>\n",
       "<style scoped>\n",
       "    .dataframe tbody tr th:only-of-type {\n",
       "        vertical-align: middle;\n",
       "    }\n",
       "\n",
       "    .dataframe tbody tr th {\n",
       "        vertical-align: top;\n",
       "    }\n",
       "\n",
       "    .dataframe thead th {\n",
       "        text-align: right;\n",
       "    }\n",
       "</style>\n",
       "<table border=\"1\" class=\"dataframe\">\n",
       "  <thead>\n",
       "    <tr style=\"text-align: right;\">\n",
       "      <th></th>\n",
       "      <th>Passwords</th>\n",
       "      <th>ciphertext</th>\n",
       "      <th>key</th>\n",
       "    </tr>\n",
       "  </thead>\n",
       "  <tbody>\n",
       "    <tr>\n",
       "      <th>0</th>\n",
       "      <td>2428031609</td>\n",
       "      <td>1092675125059b44fa88</td>\n",
       "      <td>ZDBQ7O9F</td>\n",
       "    </tr>\n",
       "    <tr>\n",
       "      <th>1</th>\n",
       "      <td>4531040045</td>\n",
       "      <td>1e26ffabe380c3d0c299</td>\n",
       "      <td>NO9EDSU0</td>\n",
       "    </tr>\n",
       "    <tr>\n",
       "      <th>2</th>\n",
       "      <td>almigrana1</td>\n",
       "      <td>2259ed1d208cca75004d</td>\n",
       "      <td>4XS7R110</td>\n",
       "    </tr>\n",
       "    <tr>\n",
       "      <th>3</th>\n",
       "      <td>quiero95</td>\n",
       "      <td>16194b66fbca0eee</td>\n",
       "      <td>BMZPZLBH</td>\n",
       "    </tr>\n",
       "    <tr>\n",
       "      <th>4</th>\n",
       "      <td>doitnow2</td>\n",
       "      <td>fab56cb16f5cd504</td>\n",
       "      <td>19RM3TPZ</td>\n",
       "    </tr>\n",
       "    <tr>\n",
       "      <th>...</th>\n",
       "      <td>...</td>\n",
       "      <td>...</td>\n",
       "      <td>...</td>\n",
       "    </tr>\n",
       "    <tr>\n",
       "      <th>199995</th>\n",
       "      <td>dime168</td>\n",
       "      <td>ee2b9cf4479a64</td>\n",
       "      <td>E68PIJK0</td>\n",
       "    </tr>\n",
       "    <tr>\n",
       "      <th>199996</th>\n",
       "      <td>!l0v3k3v!n</td>\n",
       "      <td>e56a59f153590322ed74</td>\n",
       "      <td>REKBYL0P</td>\n",
       "    </tr>\n",
       "    <tr>\n",
       "      <th>199997</th>\n",
       "      <td>9870tmf05</td>\n",
       "      <td>0faaf9b73bc5bc9940</td>\n",
       "      <td>3QJZBLJP</td>\n",
       "    </tr>\n",
       "    <tr>\n",
       "      <th>199998</th>\n",
       "      <td>CAMILA</td>\n",
       "      <td>a451626f19cb</td>\n",
       "      <td>SOMFMV7Q</td>\n",
       "    </tr>\n",
       "    <tr>\n",
       "      <th>199999</th>\n",
       "      <td>caren14</td>\n",
       "      <td>2054f21129cf9f</td>\n",
       "      <td>4XS7R110</td>\n",
       "    </tr>\n",
       "  </tbody>\n",
       "</table>\n",
       "<p>200000 rows × 3 columns</p>\n",
       "</div>"
      ],
      "text/plain": [
       "         Passwords            ciphertext       key\n",
       "0       2428031609  1092675125059b44fa88  ZDBQ7O9F\n",
       "1       4531040045  1e26ffabe380c3d0c299  NO9EDSU0\n",
       "2       almigrana1  2259ed1d208cca75004d  4XS7R110\n",
       "3         quiero95      16194b66fbca0eee  BMZPZLBH\n",
       "4         doitnow2      fab56cb16f5cd504  19RM3TPZ\n",
       "...            ...                   ...       ...\n",
       "199995     dime168        ee2b9cf4479a64  E68PIJK0\n",
       "199996  !l0v3k3v!n  e56a59f153590322ed74  REKBYL0P\n",
       "199997   9870tmf05    0faaf9b73bc5bc9940  3QJZBLJP\n",
       "199998      CAMILA          a451626f19cb  SOMFMV7Q\n",
       "199999     caren14        2054f21129cf9f  4XS7R110\n",
       "\n",
       "[200000 rows x 3 columns]"
      ]
     },
     "execution_count": 3,
     "metadata": {},
     "output_type": "execute_result"
    }
   ],
   "source": [
    "def removeExtra(x):\n",
    "    x = x[2:-1]\n",
    "    return x\n",
    "\n",
    "df['ciphertext'] = df['ciphertext'].apply(lambda x: removeExtra(x))\n",
    "df"
   ]
  },
  {
   "cell_type": "code",
   "execution_count": 4,
   "metadata": {},
   "outputs": [],
   "source": [
    "df = df.dropna()[:120000]"
   ]
  },
  {
   "cell_type": "code",
   "execution_count": 5,
   "metadata": {
    "scrolled": true
   },
   "outputs": [
    {
     "data": {
      "text/html": [
       "<div>\n",
       "<style scoped>\n",
       "    .dataframe tbody tr th:only-of-type {\n",
       "        vertical-align: middle;\n",
       "    }\n",
       "\n",
       "    .dataframe tbody tr th {\n",
       "        vertical-align: top;\n",
       "    }\n",
       "\n",
       "    .dataframe thead th {\n",
       "        text-align: right;\n",
       "    }\n",
       "</style>\n",
       "<table border=\"1\" class=\"dataframe\">\n",
       "  <thead>\n",
       "    <tr style=\"text-align: right;\">\n",
       "      <th></th>\n",
       "      <th>Passwords</th>\n",
       "      <th>ciphertext</th>\n",
       "      <th>key</th>\n",
       "    </tr>\n",
       "  </thead>\n",
       "  <tbody>\n",
       "    <tr>\n",
       "      <th>0</th>\n",
       "      <td>2428031609</td>\n",
       "      <td>1092675125059b44fa88</td>\n",
       "      <td>ZDBQ7O9F</td>\n",
       "    </tr>\n",
       "    <tr>\n",
       "      <th>1</th>\n",
       "      <td>4531040045</td>\n",
       "      <td>1e26ffabe380c3d0c299</td>\n",
       "      <td>NO9EDSU0</td>\n",
       "    </tr>\n",
       "    <tr>\n",
       "      <th>2</th>\n",
       "      <td>almigrana1</td>\n",
       "      <td>2259ed1d208cca75004d</td>\n",
       "      <td>4XS7R110</td>\n",
       "    </tr>\n",
       "    <tr>\n",
       "      <th>3</th>\n",
       "      <td>quiero95</td>\n",
       "      <td>16194b66fbca0eee</td>\n",
       "      <td>BMZPZLBH</td>\n",
       "    </tr>\n",
       "    <tr>\n",
       "      <th>4</th>\n",
       "      <td>doitnow2</td>\n",
       "      <td>fab56cb16f5cd504</td>\n",
       "      <td>19RM3TPZ</td>\n",
       "    </tr>\n",
       "    <tr>\n",
       "      <th>...</th>\n",
       "      <td>...</td>\n",
       "      <td>...</td>\n",
       "      <td>...</td>\n",
       "    </tr>\n",
       "    <tr>\n",
       "      <th>119995</th>\n",
       "      <td>quaisha123</td>\n",
       "      <td>ee52380036e56d18fedf</td>\n",
       "      <td>N2C957EO</td>\n",
       "    </tr>\n",
       "    <tr>\n",
       "      <th>119996</th>\n",
       "      <td>7192qween</td>\n",
       "      <td>af145da41167c9823e</td>\n",
       "      <td>OPM4TFXK</td>\n",
       "    </tr>\n",
       "    <tr>\n",
       "      <th>119997</th>\n",
       "      <td>janet35</td>\n",
       "      <td>64e336d210b11e</td>\n",
       "      <td>ARY69F82</td>\n",
       "    </tr>\n",
       "    <tr>\n",
       "      <th>119998</th>\n",
       "      <td>velly</td>\n",
       "      <td>3bf88e62b3</td>\n",
       "      <td>056LFPUW</td>\n",
       "    </tr>\n",
       "    <tr>\n",
       "      <th>119999</th>\n",
       "      <td>almaenid28</td>\n",
       "      <td>992dd60e02852ba4da5a</td>\n",
       "      <td>6R380KEQ</td>\n",
       "    </tr>\n",
       "  </tbody>\n",
       "</table>\n",
       "<p>120000 rows × 3 columns</p>\n",
       "</div>"
      ],
      "text/plain": [
       "         Passwords            ciphertext       key\n",
       "0       2428031609  1092675125059b44fa88  ZDBQ7O9F\n",
       "1       4531040045  1e26ffabe380c3d0c299  NO9EDSU0\n",
       "2       almigrana1  2259ed1d208cca75004d  4XS7R110\n",
       "3         quiero95      16194b66fbca0eee  BMZPZLBH\n",
       "4         doitnow2      fab56cb16f5cd504  19RM3TPZ\n",
       "...            ...                   ...       ...\n",
       "119995  quaisha123  ee52380036e56d18fedf  N2C957EO\n",
       "119996   7192qween    af145da41167c9823e  OPM4TFXK\n",
       "119997     janet35        64e336d210b11e  ARY69F82\n",
       "119998       velly            3bf88e62b3  056LFPUW\n",
       "119999  almaenid28  992dd60e02852ba4da5a  6R380KEQ\n",
       "\n",
       "[120000 rows x 3 columns]"
      ]
     },
     "execution_count": 5,
     "metadata": {},
     "output_type": "execute_result"
    }
   ],
   "source": [
    "df['Passwords'].apply(str)\n",
    "df['ciphertext'].apply(str)\n",
    "df"
   ]
  },
  {
   "cell_type": "code",
   "execution_count": 46,
   "metadata": {
    "scrolled": false
   },
   "outputs": [
    {
     "name": "stdout",
     "output_type": "stream",
     "text": [
      "4e0e47d68659729a08fbebf767ab330d383d364b6e47bc6e65a8de --- vickicritch30@hotmail.co.uk\n",
      "-------------------------\n",
      "4ed33c1a7657d81eabd7ec807ad814580bf7f51c607c904cd89a --- luiscarlafransisconiccolle\n",
      "-------------------------\n",
      "37dc4bb8999a525fe41f463db9f1e3736b792f0303688ac47c1e06 --- http://blackspartan.hi5.com\n",
      "-------------------------\n",
      "4666afffa1db978997d6d12fca225f2bcac759650a76a7680e99dbf051e82e8180 --- lucerodiazaguilar3004198914071989\n",
      "-------------------------\n",
      "2f54df192290c4770519b035f8941025fc541605c03adbfcd3e31181 --- la_menoldelomina@hotmail.com\n",
      "-------------------------\n",
      "eb4a1db80475c0c932bf57d9bdc8896957ce1d5762d2add53eba --- soy.del.barrio@hotmail.com\n",
      "-------------------------\n",
      "e648281c2ce87e46ad8135e95fde8af474ecc3846a341e89f9140d4af5e07ff6 --- yoquieroamislocosamigos123456789\n",
      "-------------------------\n",
      "cb4f8351fab51447b0d3f691a2b63b75b6c25896d9a74344f06d65a9a514e87f --- 837112034971964732852589631470.0\n",
      "-------------------------\n",
      "18f9338fdf53a27850821c6bc1643fd0232c3896bb5a5105b4 --- à¸à¸¸à¸¸à¹",
      "à¸ à¸à¸-à¸\n",
      "-------------------------\n",
      "b03df92987cb612bc2b888e5d5c43e77c5a921eba4dd553e8913 --- CAMILLE_FRIEND15@YAHOO.COM\n",
      "-------------------------\n",
      "d4bf77a06c4ae35ae72983116e91847e2b85ca849e0d1286b4a5840e418af27e --- JeremyAlfonzoDillardAKADangerboy\n",
      "-------------------------\n",
      "f738905ee6d4b5aae0cbc0cf96fecf6f4db4c18c7920bd4dec0ba87f --- volleyballgurl05@hotmail.com\n",
      "-------------------------\n",
      "0ca0f4d4e57b886e280fb4275187bc3b519c7cc011ce8eb8e493ce --- onlymenyouarebestfrendz4eva\n",
      "-------------------------\n",
      "590356c8dd0b619d18fbebad218a28102937364e3058be6f2fb7da7289e4 --- adru21andchivasregal21andjon21\n",
      "-------------------------\n",
      "540848d285556a9c18f7e7ab31993207223424446d1bb3682db8 --- lolojojododofriendsforlife\n",
      "-------------------------\n",
      "4b7fa9e2b2da978584cdc320d32e4a7889b40e385f2ef27e54c782 --- alexanderashley21@gmail.com\n",
      "-------------------------\n",
      "3feb36d40df64ae9013a5cee71204ebbb31b87ff29826bfc6d9f350503 --- 1incitanem_ilknur@hotmail.com\n",
      "-------------------------\n",
      "e0229853e0c4b8beffcbd5dba4e19d396ab0c19a752dfa4fa71c --- audaciouslra@sbcglobal.net\n",
      "-------------------------\n",
      "f23f9347efc9b694ebc8c9df90fd893f6abdddb87c2ea04ca301ab3cc70ac8b332 --- shoulda_gonetovegas@hotmail.co.uk\n",
      "-------------------------\n",
      "0fbd8aa72fb8d55d6521f506d4a490d1a159b1ce6ff31b77b13d --- megustaestaralamodafashion\n",
      "-------------------------\n",
      "eb3f965ae1deb6a1f6cbccd1dffe853362accf9e7b2abf42b407b761de0a96bc2aab5d8c559ddb47 --- jhjhbsajzlkk;lziopafokkcvopszopzsz-sad][\n",
      "-------------------------\n",
      "af53301021b5635fa28633f34ad5d0e23cead8b1517c43cba3404137acb02bba608e63729e --- 0tiyd8ovnjoiyd9y;gv\\\\'.shgxHoglupdjvo\n",
      "-------------------------\n",
      "882ecc0a15b429a98c11fade11eedf58f4cdb54f471b9fde53f1 --- power_kids_002@hotmail.com\n",
      "-------------------------\n",
      "9013c601a7b51d2bbdd3f899a2b9367bbcc9599ad2ab4244ff676da4ab1dff7699ab5ff041 --- coral29_99999999999999999999999999990\n",
      "-------------------------\n",
      "110d4c66fad656b99fd27f2929c2fe207da0111b4a7ce45697847235a2 --- vanessabrown123@hotmail.co.uk\n",
      "-------------------------\n",
      "f536d3ac91dcff06c9b7f60c1d0f780dc313b351773d57bb79b93877a4 --- à¹à¸£à¸·à¸à¸à¸à¸à¸°12238\n",
      "-------------------------\n",
      "75c08fdd16ef93fb3992d076f0a2c5291bdf41636153ff09882be5 --- CRAZYGIRL_HEART@HOTMAIL.COM\n",
      "-------------------------\n",
      "9520c80e0b8723a48d0ec68744b0f05dfacab9424216d5d850ff77d175f3 --- masalladelcielomasalladelcielo\n",
      "-------------------------\n",
      "4b75abf2b2daac8797c0ca17cd3e5f2ff89c06215326f73c19cb80ee13b2 --- afghan_galz_rule@hotmail.co.uk\n",
      "-------------------------\n",
      "4b7dabf3b6d59f859ccdde2ccd2a512bdd8e0b3a502ef23c56 --- angiealejandrabaezbonilla\n",
      "-------------------------\n",
      "70fc2f2d5b1e6cfe0d3e2be08dc582d849be6b8a87b382622fe4 --- estaras@siempre5238conmigo\n",
      "-------------------------\n",
      "0602566be6cb4e848fd169247392a80c618f0d195f78e91198c53f2fa4 --- anthony_blackbelt@hotmail.com\n",
      "-------------------------\n",
      "bf108f281a3c9d85179e9de12a3803e1a691a195f4e1075dffc9f27b350a --- à¸°à¹à¸à¸·à¹à¹à¸à¸·à¸à¸²\n",
      "-------------------------\n",
      "5e7ba9f4bad39b949bcdc22ddd2e5525ca910a3d4c2eed245ac99c --- thenightmarebeforechristmas\n",
      "-------------------------\n",
      "ce2383fa26de35709df6c404366129230f6b6fc11322d39d39fa --- DarkPrincezZ-16@hotmail.de\n",
      "-------------------------\n",
      "a7c0c9249dbbe1a77f5fcb525197948fdfe9af2e6c21cf50736e00 --- baby-girl-ahead@hotmail.com\n",
      "-------------------------\n",
      "ad256aee7226239e8c3124fd6488a395896cf0b8d243fde5d1cd99323539186ce5 --- à¸à¸--à¸à¸¶à¸/à¸ à¸à¹à¸µà¸·\n",
      "-------------------------\n",
      "8a75434f26eb64e0ec94caae29ce01cf13e5e3002d213044386c822ac8 --- melisateamoereselamordemivida\n",
      "-------------------------\n",
      "9210d809b8e84a2bf68fa8c4acb84f2aea840dc282fe551ea933 --- allison_reid78@hotmail.com\n",
      "-------------------------\n",
      "228cdaf4cf53a55c0e349b106da5910771b74fec3384b7c3cc --- ABBYGMCKINNEY@HOTMAIL.COM\n",
      "-------------------------\n",
      "d2279d5ceadebf8dedcbcedf88fb9a6b3fef9acd2276ec18f2 --- SpanishFalielie1234567890\n",
      "-------------------------\n",
      "55fabcee3cdcb3c710a4ea56df95e2003de4745b4c73c04eb905c15c --- christineirenesintaulisirait\n",
      "-------------------------\n",
      "2850f2062e9ff47d0d15b22ee192092ae35f001fd933dbf1bdf91f8485deee1045e5 --- kerria_flinttown_cynthia@yahoo.com\n",
      "-------------------------\n",
      "b5f12eee2a18891daa6dc6402afec6396ccf93cbf46d78e9fee0c84018c3b62c3714651122c3dedc80591a29f6c17edbb597c7be34013771ae8480c995052db994360f52ce114330d145b3c7bf70fbf55b497a64569ae839da5d6b --- +++++++++++++++++++++++++++++++++-----------------------------------------------brittbratt1\n",
      "-------------------------\n",
      "06b188b53393d84e4934f91bc78882dda358b2c76af95d7db13e --- diego_lv_amor@samebody.com\n",
      "-------------------------\n",
      "f8462b0c31e57c4cad9e3fff02f181f473e0cf8461750ed7e55252 --- garethpearce1@hotmail.co.uk\n",
      "-------------------------\n",
      "c14a8455fabe1d46f28badc5e9e96e23e9950ac285f6091ca5 --- 26051992valeriaalejandrac\n",
      "-------------------------\n",
      "ede21434f9645ec3cf9c20806234184407d45181dffedd794fcee266b1 --- dpdpdpdpdpdpdpdpdpdpdpdpdpdpd\n",
      "-------------------------\n",
      "e5462b0829e8691bfedc6fda5bde9df666e4c2c36e3443cda0 --- zaralee2203@hotmail.co.uk\n",
      "-------------------------\n",
      "9105d10ea8f2500ee599a9c9e8e87b27e39909d083e61e1baf3738e8e5 --- byencutzashishtefiishtefiiluw\n",
      "-------------------------\n",
      "5d0d41db9d5b699d1ef9efa032993a117e29364a6d06f16224b0 --- ejefrainbalderas2yahoo.com\n",
      "-------------------------\n",
      "7e62b125b9ac428e36a655f4e16d5af2ff7b58586ba6eb5b35737c8b8b58 --- à¸´à¸à¸·à¸à¸·à¸à¸´à¸à¸à¸°\n",
      "-------------------------\n",
      "9913c201a5e85215f499b8c3f3ef662ce39905d185f30f14a53166ada212 --- jovanovapsychoinfiernatico2006\n",
      "-------------------------\n",
      "fb46370020e1605aaf8d3aff51d09bdb6fe2da806c320196a84854 --- daniellscafebar@hotmail.com\n",
      "-------------------------\n",
      "692adda4249dda0b060cfc51e6fcdfd4db15d5493a6e0188cb062bf66d6cbacd33ff3206 --- à¸­à¹à¸­à¸¡à¸£à¸±à¸à¸à¸­à¸¥à¹à¸\n",
      "-------------------------\n",
      "f0b660ac665bd659ef77d42b69ba997f268dd4cebc297db7be --- nleighton19@hotmail.co.uk\n",
      "-------------------------\n",
      "f92b82e513de307188f6d83169356906156575c81327c8d224ec --- sisterloveforeverandalways\n",
      "-------------------------\n",
      "ad6a06f10546512da075809a7878363ebf797f09fd18605b6d0828 --- ilovetaylormorethananything\n",
      "-------------------------\n",
      "07a89dc6ed13f03d13191d7cbb13d04ac71d6ed7ef77b590c9fa53d249c878c67b3da9b5b9ef984daf2040b9887cd547d001bd938b242a6b3e71737f5c005fb236 --- à¸²à¸à¸à¸·à¸¢à¸à¸°2à¹à¸à¸à¹à¹à¸à¸°à¸à¸à¸£à¸ª.à¹à¸à¸\n",
      "-------------------------\n",
      "295af31118d3c87a0d19b068a5cd462cd6481410c4379cf392ed --- jose_-calel2008hjtmail.com\n",
      "-------------------------\n",
      "6afa7971ce39bca77bbc5ee68db0a7f687bcbb4ccadd5f0bd5 --- à¸à¸à¹",
      "/à¸à¸à¸ à¸à¸\n",
      "-------------------------\n",
      "692ad4a42595da0b3c0cfc53e6fccbd4db07d549106e01b9cb0618f66d56bacc0fff3200526b6b --- à¸¤à¸à¸à¸£à¸·à¸£à¸«à¸°à¸à¸à¸°à¸à¸\n",
      "-------------------------\n",
      "2147ef03299bd27e124fed05a6cc3e2cd3481410c4379cf392ed --- browneyes31_31@hotmail.com\n",
      "-------------------------\n",
      "33c95bb1c1d01c4fe41f412fa8e4e37355772943583089a0701905a8bc8e --- ladybearladybearJohn316John316\n",
      "-------------------------\n",
      "15af9afc28a5da597832e10dd0a6c08aff0b90cf63e11a72f03080db --- www.tinanguyen1616@gmail.com\n",
      "-------------------------\n",
      "82604932e454548192b52ceb5570415c769d3010988a93a67ab357306a79957f79a0b9c888f3b82ba60334715b9f --- à¸¤à¸à¹à¸à¸°à¸ à¸\n",
      "à¸¤à¸à¸à¹à¸à¸à¸à¸\n",
      "-------------------------\n",
      "520845d2b04d699f10f1e2aa1783341621313e4e2c0ab06c65bfc7 --- joao_willian@hotmail.com.br\n",
      "-------------------------\n",
      "52f9a89fba2fd6212616bc3b5593aa29499f6dd61ec490fee0 --- 17022106alinavsalecsandra\n",
      "-------------------------\n",
      "25b9b879f76dc372e3ba5ab4e82d393ac85732733117735692c1fcce62 --- ultraman_ha_ha_ha@hotmail.com\n",
      "-------------------------\n",
      "9f20cd06098a2ca48b03d78258bdf154f3d8a1424b0e838f0e --- gavinandcarlyandhayley222\n",
      "-------------------------\n",
      "ad2462ee7238ee0ae66918873c86dacda5cbf0b8c043fdc2d1ccac32350d --- à¹à¸à¹à¸à¸à¹à¸²à¸£à¸±à¸\n",
      "-------------------------\n",
      "b690946bceb9f8bfd97c3bcab66c4de2b48395294d6908e6b513c6 --- sexy_cici06@blackplanet.com\n",
      "-------------------------\n",
      "a2c0df34c4bdb9e74c1ecf556bc7b0a7d8f2b62264248d1d7f6c --- gatita12_leo_1@hotmail.com\n",
      "-------------------------\n",
      "a7671af3125d5626ad7d9d84784a3b25a3757001ff4f775c69 --- castrofragoso@hotmail.com\n",
      "-------------------------\n",
      "f536daac90f6ff06e1b7f63f1d0f790dc32eb3506d3d57bda8339fa42530decd09ed0a --- à¹à¹à¸à¸²à¸à¸£à¹",
      "à¸¶à¸à¹",
      "//à¸ \n",
      "-------------------------\n",
      "0c054962f0fa5cba9fc4642b7db0b4017da00a58487ae5568483 --- kikay_karylle@yahoo.com.ph\n",
      "-------------------------\n",
      "ea3e9259fac0bea5f49692fa8cfd8b376cb5c2d6772efa54a9 --- kinkyminx15@hotmail.co.uk\n",
      "-------------------------\n",
      "43c8311b7057cf17a6c5f18f269c3d4307ecf6146a73d143db9220d7eaafbc7157eb --- andreaeelton27@hotmail.com27092005\n",
      "-------------------------\n",
      "ae6f08ea05515139a576c3c4243f6a6af7383148f9007d5e61052e6b64d27d4041906d --- jiamecamil13359     jaimecamil13359\n",
      "-------------------------\n",
      "6ce6352b761570c7213427f984f78f820fe0328084f38c6425 --- ying_joy_city@hotmail.com\n",
      "-------------------------\n",
      "07a8a7c6ed2af03d05191d6b744bcb2f9f3c368fe6c0b591c4 --- à¸à¸ à¸à¸ /à¹",
      "à¸¸à¹",
      "à¸\n",
      "-------------------------\n",
      "f54c07fe0175c0a733b148dba1d3ac735bd6055463d1f6c534f96fa6 --- michael@computerclubhouse.ie\n",
      "-------------------------\n",
      "0ea7ebc0ed7489652209b4385d82b63b47887bcb10cf9dfae08b --- mismejoresamigosbrunoeivan\n",
      "-------------------------\n",
      "6cf03dd60fef52ef013671f36a2a54ada9368af63c8366f471d0241e --- breakmyheartwatchmefallapart\n",
      "-------------------------\n",
      "0cad88a43dbadd427534ed15c6bc90c8ab48bec178e5016db72796 --- nuevavizcayastateuniversity\n",
      "-------------------------\n",
      "a69a8162fdb3f2bdc42969baed321cb2ecc3c17d113c1bbab319c5da6d76856f --- complicated09203308520greenday16\n",
      "-------------------------\n",
      "8377114d30ad06afd09a6dccd45c59a89d50ee1de64a4c38615d0c01faab3703 --- à¹à¸³à¸à¸à¹à¸ªà¸à¸´à¸£à¸·28\n",
      "-------------------------\n",
      "7fee38275a0b6ddf0a3121ff99f78f820fe0328084f38c6466fe61 --- jackstratford@hotmail.co.uk\n",
      "-------------------------\n"
     ]
    },
    {
     "name": "stdout",
     "output_type": "stream",
     "text": [
      "550e56d48e5767911dfafafd65ab2203243f380c6106b22f28b2d8 --- miriamgbaby92@yahoo.com.com\n",
      "-------------------------\n",
      "a96704d4216665068d4e81965e471a3eb86c422bdb28597165023d637edf --- mamSATURATsaIMItotSCHIMBadresa\n",
      "-------------------------\n",
      "9925d21b0f8a6ceec64c8bc00ff2b11eb597f60000599f9312b2309a37 --- aditha.......................\n",
      "-------------------------\n",
      "24befe67d8add0ec7b34124f88eaebd537a08e2873d89dd3bcffafbebd5ef4e4921dcb541ea48e1829f44fce476bf58bd423f4 --- à¸à¸à¸·.à¸à¸à¸@à¹à¸à¸°à¸à¸à¸£à¸ª.à¹à¸à¸\n",
      "-------------------------\n",
      "9a24c81b478d30a98d0cc19d01b3f110fa99aa4f4719d3d24b --- best friends on a rainbow\n",
      "-------------------------\n",
      "507aaeefa0dd808f9bcddc21d4235c30d999082f562ef03442 --- zibusisomalikhozamazhindu\n",
      "-------------------------\n",
      "0e41436ea4d658a99fc425256d84e00938a30a004e38f11781c6 --- i-am-sorry-but-i-love-you-\n",
      "-------------------------\n",
      "f1b469bc605fcb50e42a841d64b18b7d358bcc88ba3420aba6aa8f02558dea686e4d204b67879f94 --- onlyalifelivedforothersisalifeworthwhile\n",
      "-------------------------\n",
      "95bcaf59d096d48fef0d43cd9d451db29fa1b60b68223f879b --- PICKALES_ANGIE13@ROCK.COM\n",
      "-------------------------\n",
      "7dfb2f3c135030c9092079b9d3c5888e10f43c9cc6be806667ff6537b2c59992 --- http://www74.rockyou.com/tos.php\n",
      "-------------------------\n",
      "53f9ac9dbd26d22e7e4ae56200d7ec7f10c2389d4f9dc0bcb4dd9bd87b2c --- 074058499007425758680740584990\n",
      "-------------------------\n",
      "510d1433ec9552eedcdc3b227ac2a85973aa01404a20bc4ec3db6924ac838500 --- 6a60e0e51a3eb2e9fed6a546705de1bf\n",
      "-------------------------\n",
      "8965414534ee75efec8bc0af3eca1fcb0df0eb5e667c671b662dd9 --- nuncadejaredeamarte19922772\n",
      "-------------------------\n",
      "13c531807311c4cd010a79287b398aa23d78801b6372c2f826e6ecb2729c5360402ae2 --- à¹",
      "à¸à¹",
      "à¸à¹",
      "à¸à¸à¹",
      "à¸¸/à¸/à¸\n",
      "-------------------------\n",
      "9e069a0eaef0461beb9eb892abb03702fc9108cc84bc1812ab --- mz.newbooty2008@yahoo.com\n",
      "-------------------------\n",
      "41e5b9a93dddb8d019a8fd73c69df2063dfe704d5434d048a6 --- www.rubylee@wmconnect.com\n",
      "-------------------------\n",
      "12bd99b72ebed1517a39ed458cfec5fca652a4c56fe91f30bd3cc1c3e1 --- peterreilly1964@hotmail.co.uk\n",
      "-------------------------\n",
      "86c9c43edfb0e9a17631cb54509fa0a3d6ffbe317e08da1f786e02934cce5d --- ChocolateCandiPlayers@yahoo.com\n",
      "-------------------------\n"
     ]
    },
    {
     "data": {
      "text/plain": [
       "510"
      ]
     },
     "execution_count": 46,
     "metadata": {},
     "output_type": "execute_result"
    }
   ],
   "source": [
    "m = 0\n",
    "il = 0\n",
    "for i in range(len(df['ciphertext'])):\n",
    "    m = max(len(df['ciphertext'][i]), m)\n",
    "    if len(df['Passwords'][i]) >= 25 and len(df['Passwords'][i]) <= 200:\n",
    "        print(df['ciphertext'][i] + ' --- ' + df['Passwords'][i])\n",
    "        print('-------------------------')\n",
    "m"
   ]
  },
  {
   "cell_type": "markdown",
   "metadata": {
    "id": "44T02G-FBNYf"
   },
   "source": [
    "## Preprocessing Data"
   ]
  },
  {
   "cell_type": "code",
   "execution_count": 6,
   "metadata": {
    "colab": {
     "base_uri": "https://localhost:8080/"
    },
    "id": "I9b4vwned1-4",
    "outputId": "a955da71-52ac-4881-e8ed-78d398c47ec9"
   },
   "outputs": [],
   "source": [
    "def tokenize(x):\n",
    "    x_tk = Tokenizer(char_level=True)\n",
    "    x_tk.fit_on_texts(x)                 \n",
    "\n",
    "    return x_tk.texts_to_sequences(x), x_tk\n",
    "\n",
    "def pad(x, length=None):\n",
    "    if length is None:\n",
    "        length = max([len(sentence) for sentence in x])\n",
    "    \n",
    "    return pad_sequences(x, maxlen=length, padding=\"post\", truncating=\"post\",)"
   ]
  },
  {
   "cell_type": "markdown",
   "metadata": {
    "id": "fdV69c9gd1-5"
   },
   "source": [
    "### Preprocess Pipeline"
   ]
  },
  {
   "cell_type": "code",
   "execution_count": 7,
   "metadata": {
    "colab": {
     "base_uri": "https://localhost:8080/"
    },
    "id": "uxTxyzCHd1-5",
    "outputId": "3f358e66-7cca-4959-8f96-5b96b818532f"
   },
   "outputs": [],
   "source": [
    "def preprocess(x, y):\n",
    "    preprocess_x, x_tk = tokenize(x)\n",
    "    preprocess_y, y_tk = tokenize(y)\n",
    "\n",
    "    preprocess_x = pad(preprocess_x)\n",
    "    preprocess_y = pad(preprocess_y)\n",
    "\n",
    "    preprocess_y = preprocess_y.reshape(*preprocess_y.shape, 1)\n",
    "\n",
    "    return preprocess_x, preprocess_y, x_tk, y_tk"
   ]
  },
  {
   "cell_type": "code",
   "execution_count": 8,
   "metadata": {},
   "outputs": [
    {
     "name": "stdout",
     "output_type": "stream",
     "text": [
      "Data Preprocessed\n"
     ]
    }
   ],
   "source": [
    "preproc_code_sentences, preproc_plaintext_sentences, code_tokenizer, plaintext_tokenizer = preprocess(df['Passwords'], df['ciphertext'])\n",
    "\n",
    "print('Data Preprocessed')"
   ]
  },
  {
   "cell_type": "code",
   "execution_count": 9,
   "metadata": {
    "colab": {
     "base_uri": "https://localhost:8080/"
    },
    "id": "-NlbiDf-d1-6",
    "outputId": "21c9cb2e-025e-4032-e29b-8d5a36a6cd4a"
   },
   "outputs": [
    {
     "data": {
      "text/plain": [
       "array([ 7, 17,  7, 15,  5, 13,  3, 19,  5, 12,  0,  0,  0,  0,  0,  0,  0,\n",
       "        0,  0,  0,  0,  0,  0,  0,  0,  0,  0,  0,  0,  0,  0,  0,  0,  0,\n",
       "        0,  0,  0,  0,  0,  0,  0,  0,  0,  0,  0,  0,  0,  0,  0,  0,  0,\n",
       "        0,  0,  0,  0,  0,  0,  0,  0,  0,  0,  0,  0,  0,  0,  0,  0,  0,\n",
       "        0,  0,  0,  0,  0,  0,  0,  0,  0,  0,  0,  0,  0,  0,  0,  0,  0,\n",
       "        0,  0,  0,  0,  0,  0,  0,  0,  0,  0,  0,  0,  0,  0,  0,  0,  0,\n",
       "        0,  0,  0,  0,  0,  0,  0,  0,  0,  0,  0,  0,  0,  0,  0,  0,  0,\n",
       "        0,  0,  0,  0,  0,  0,  0,  0,  0,  0,  0,  0,  0,  0,  0,  0,  0,\n",
       "        0,  0,  0,  0,  0,  0,  0,  0,  0,  0,  0,  0,  0,  0,  0,  0,  0,\n",
       "        0,  0,  0,  0,  0,  0,  0,  0,  0,  0,  0,  0,  0,  0,  0,  0,  0,\n",
       "        0,  0,  0,  0,  0,  0,  0,  0,  0,  0,  0,  0,  0,  0,  0,  0,  0,\n",
       "        0,  0,  0,  0,  0,  0,  0,  0,  0,  0,  0,  0,  0,  0,  0,  0,  0,\n",
       "        0,  0,  0,  0,  0,  0,  0,  0,  0,  0,  0,  0,  0,  0,  0,  0,  0,\n",
       "        0,  0,  0,  0,  0,  0,  0,  0,  0,  0,  0,  0,  0,  0,  0,  0,  0,\n",
       "        0,  0,  0,  0,  0,  0,  0,  0,  0,  0,  0,  0,  0,  0,  0,  0,  0])"
      ]
     },
     "execution_count": 9,
     "metadata": {},
     "output_type": "execute_result"
    }
   ],
   "source": [
    "preproc_code_sentences[0]"
   ]
  },
  {
   "cell_type": "code",
   "execution_count": 10,
   "metadata": {
    "colab": {
     "base_uri": "https://localhost:8080/"
    },
    "id": "CrK0B3ttd1-6",
    "outputId": "86b2b875-ef69-4f0b-f245-62dbf0d7bb3d"
   },
   "outputs": [
    {
     "data": {
      "text/plain": [
       "136"
      ]
     },
     "execution_count": 10,
     "metadata": {},
     "output_type": "execute_result"
    }
   ],
   "source": [
    "len(code_tokenizer.word_index)+1"
   ]
  },
  {
   "cell_type": "code",
   "execution_count": 11,
   "metadata": {
    "colab": {
     "base_uri": "https://localhost:8080/"
    },
    "id": "DRkiK6Qjd1-6",
    "outputId": "a473c0bf-f76d-4689-8884-028a871751b7"
   },
   "outputs": [
    {
     "data": {
      "text/plain": [
       "17"
      ]
     },
     "execution_count": 11,
     "metadata": {},
     "output_type": "execute_result"
    }
   ],
   "source": [
    "len(plaintext_tokenizer.word_index)+1"
   ]
  },
  {
   "cell_type": "code",
   "execution_count": 12,
   "metadata": {
    "colab": {
     "base_uri": "https://localhost:8080/"
    },
    "id": "Hk8HcQtEd1-7",
    "outputId": "e734311c-c349-47d9-c726-ff275f434840"
   },
   "outputs": [
    {
     "data": {
      "text/plain": [
       "{'e': 1,\n",
       " 'f': 2,\n",
       " '0': 3,\n",
       " 'b': 4,\n",
       " '2': 5,\n",
       " '5': 6,\n",
       " '9': 7,\n",
       " 'c': 8,\n",
       " 'a': 9,\n",
       " '3': 10,\n",
       " '4': 11,\n",
       " 'd': 12,\n",
       " '7': 13,\n",
       " '6': 14,\n",
       " '1': 15,\n",
       " '8': 16}"
      ]
     },
     "execution_count": 12,
     "metadata": {},
     "output_type": "execute_result"
    }
   ],
   "source": [
    "plaintext_tokenizer.word_index"
   ]
  },
  {
   "cell_type": "code",
   "execution_count": 13,
   "metadata": {
    "colab": {
     "base_uri": "https://localhost:8080/"
    },
    "id": "PPevgp-id1-7",
    "outputId": "e7085fd4-de9d-4636-a167-3681e52eb0a6"
   },
   "outputs": [
    {
     "data": {
      "text/plain": [
       "(120000, 255)"
      ]
     },
     "execution_count": 13,
     "metadata": {},
     "output_type": "execute_result"
    }
   ],
   "source": [
    "preproc_code_sentences.shape"
   ]
  },
  {
   "cell_type": "code",
   "execution_count": 14,
   "metadata": {
    "colab": {
     "base_uri": "https://localhost:8080/"
    },
    "id": "cxFxFP-Bd1-7",
    "outputId": "f2ae4663-bf7d-4992-ebad-54c974e2b78e"
   },
   "outputs": [
    {
     "data": {
      "text/plain": [
       "(120000, 510, 1)"
      ]
     },
     "execution_count": 14,
     "metadata": {},
     "output_type": "execute_result"
    }
   ],
   "source": [
    "preproc_plaintext_sentences.shape"
   ]
  },
  {
   "cell_type": "markdown",
   "metadata": {
    "id": "sKHZqlXyd1-8"
   },
   "source": [
    "# LSTM"
   ]
  },
  {
   "cell_type": "code",
   "execution_count": 15,
   "metadata": {
    "id": "HnLsrRNZd1-8"
   },
   "outputs": [],
   "source": [
    "from keras.layers import GRU, Input, Dense, TimeDistributed, RNN, LSTM\n",
    "from keras.models import Model, Sequential\n",
    "from keras.layers import Activation\n",
    "from tensorflow.keras.optimizers import Adam\n",
    "from keras.losses import sparse_categorical_crossentropy\n",
    "import tensorflow\n",
    "\n",
    "\n",
    "def simple_model(input_shape, output_sequence_length, code_vocab_size, plaintext_vocab_size):\n",
    "    x = Input(shape=input_shape[1:])   \n",
    "    seq = LSTM(units= 256, return_sequences = True, activation=\"tanh\", name='Layer1')(x)\n",
    "    output = TimeDistributed(Dense(units = plaintext_vocab_size, activation='softmax', name='Layer2'))(seq)\n",
    "    model = Model(inputs = x, outputs = output)\n",
    "    model.compile(optimizer='adam', loss= categorical_crossentropy, metrics=['accuracy'])\n",
    "    model.summary()\n",
    "    return model\n",
    "\n",
    "tmp_x = pad(preproc_code_sentences, preproc_plaintext_sentences.shape[1]) \n",
    "tmp_x = tmp_x.reshape((-1, preproc_plaintext_sentences.shape[-2], 1))     "
   ]
  },
  {
   "cell_type": "code",
   "execution_count": 16,
   "metadata": {
    "colab": {
     "base_uri": "https://localhost:8080/"
    },
    "id": "yOCnrOcnd1-8",
    "outputId": "e9ed1e68-9923-49c0-fe27-7fc6040b24cc"
   },
   "outputs": [
    {
     "data": {
      "text/plain": [
       "(120000, 510, 1)"
      ]
     },
     "execution_count": 16,
     "metadata": {},
     "output_type": "execute_result"
    }
   ],
   "source": [
    "tmp_x.shape"
   ]
  },
  {
   "cell_type": "code",
   "execution_count": 17,
   "metadata": {},
   "outputs": [
    {
     "data": {
      "text/plain": [
       "array([[ 7],\n",
       "       [17],\n",
       "       [ 7],\n",
       "       [15],\n",
       "       [ 5],\n",
       "       [13],\n",
       "       [ 3],\n",
       "       [19],\n",
       "       [ 5],\n",
       "       [12],\n",
       "       [ 0],\n",
       "       [ 0],\n",
       "       [ 0],\n",
       "       [ 0],\n",
       "       [ 0],\n",
       "       [ 0],\n",
       "       [ 0],\n",
       "       [ 0],\n",
       "       [ 0],\n",
       "       [ 0],\n",
       "       [ 0],\n",
       "       [ 0],\n",
       "       [ 0],\n",
       "       [ 0],\n",
       "       [ 0],\n",
       "       [ 0],\n",
       "       [ 0],\n",
       "       [ 0],\n",
       "       [ 0],\n",
       "       [ 0],\n",
       "       [ 0],\n",
       "       [ 0],\n",
       "       [ 0],\n",
       "       [ 0],\n",
       "       [ 0],\n",
       "       [ 0],\n",
       "       [ 0],\n",
       "       [ 0],\n",
       "       [ 0],\n",
       "       [ 0],\n",
       "       [ 0],\n",
       "       [ 0],\n",
       "       [ 0],\n",
       "       [ 0],\n",
       "       [ 0],\n",
       "       [ 0],\n",
       "       [ 0],\n",
       "       [ 0],\n",
       "       [ 0],\n",
       "       [ 0],\n",
       "       [ 0],\n",
       "       [ 0],\n",
       "       [ 0],\n",
       "       [ 0],\n",
       "       [ 0],\n",
       "       [ 0],\n",
       "       [ 0],\n",
       "       [ 0],\n",
       "       [ 0],\n",
       "       [ 0],\n",
       "       [ 0],\n",
       "       [ 0],\n",
       "       [ 0],\n",
       "       [ 0],\n",
       "       [ 0],\n",
       "       [ 0],\n",
       "       [ 0],\n",
       "       [ 0],\n",
       "       [ 0],\n",
       "       [ 0],\n",
       "       [ 0],\n",
       "       [ 0],\n",
       "       [ 0],\n",
       "       [ 0],\n",
       "       [ 0],\n",
       "       [ 0],\n",
       "       [ 0],\n",
       "       [ 0],\n",
       "       [ 0],\n",
       "       [ 0],\n",
       "       [ 0],\n",
       "       [ 0],\n",
       "       [ 0],\n",
       "       [ 0],\n",
       "       [ 0],\n",
       "       [ 0],\n",
       "       [ 0],\n",
       "       [ 0],\n",
       "       [ 0],\n",
       "       [ 0],\n",
       "       [ 0],\n",
       "       [ 0],\n",
       "       [ 0],\n",
       "       [ 0],\n",
       "       [ 0],\n",
       "       [ 0],\n",
       "       [ 0],\n",
       "       [ 0],\n",
       "       [ 0],\n",
       "       [ 0],\n",
       "       [ 0],\n",
       "       [ 0],\n",
       "       [ 0],\n",
       "       [ 0],\n",
       "       [ 0],\n",
       "       [ 0],\n",
       "       [ 0],\n",
       "       [ 0],\n",
       "       [ 0],\n",
       "       [ 0],\n",
       "       [ 0],\n",
       "       [ 0],\n",
       "       [ 0],\n",
       "       [ 0],\n",
       "       [ 0],\n",
       "       [ 0],\n",
       "       [ 0],\n",
       "       [ 0],\n",
       "       [ 0],\n",
       "       [ 0],\n",
       "       [ 0],\n",
       "       [ 0],\n",
       "       [ 0],\n",
       "       [ 0],\n",
       "       [ 0],\n",
       "       [ 0],\n",
       "       [ 0],\n",
       "       [ 0],\n",
       "       [ 0],\n",
       "       [ 0],\n",
       "       [ 0],\n",
       "       [ 0],\n",
       "       [ 0],\n",
       "       [ 0],\n",
       "       [ 0],\n",
       "       [ 0],\n",
       "       [ 0],\n",
       "       [ 0],\n",
       "       [ 0],\n",
       "       [ 0],\n",
       "       [ 0],\n",
       "       [ 0],\n",
       "       [ 0],\n",
       "       [ 0],\n",
       "       [ 0],\n",
       "       [ 0],\n",
       "       [ 0],\n",
       "       [ 0],\n",
       "       [ 0],\n",
       "       [ 0],\n",
       "       [ 0],\n",
       "       [ 0],\n",
       "       [ 0],\n",
       "       [ 0],\n",
       "       [ 0],\n",
       "       [ 0],\n",
       "       [ 0],\n",
       "       [ 0],\n",
       "       [ 0],\n",
       "       [ 0],\n",
       "       [ 0],\n",
       "       [ 0],\n",
       "       [ 0],\n",
       "       [ 0],\n",
       "       [ 0],\n",
       "       [ 0],\n",
       "       [ 0],\n",
       "       [ 0],\n",
       "       [ 0],\n",
       "       [ 0],\n",
       "       [ 0],\n",
       "       [ 0],\n",
       "       [ 0],\n",
       "       [ 0],\n",
       "       [ 0],\n",
       "       [ 0],\n",
       "       [ 0],\n",
       "       [ 0],\n",
       "       [ 0],\n",
       "       [ 0],\n",
       "       [ 0],\n",
       "       [ 0],\n",
       "       [ 0],\n",
       "       [ 0],\n",
       "       [ 0],\n",
       "       [ 0],\n",
       "       [ 0],\n",
       "       [ 0],\n",
       "       [ 0],\n",
       "       [ 0],\n",
       "       [ 0],\n",
       "       [ 0],\n",
       "       [ 0],\n",
       "       [ 0],\n",
       "       [ 0],\n",
       "       [ 0],\n",
       "       [ 0],\n",
       "       [ 0],\n",
       "       [ 0],\n",
       "       [ 0],\n",
       "       [ 0],\n",
       "       [ 0],\n",
       "       [ 0],\n",
       "       [ 0],\n",
       "       [ 0],\n",
       "       [ 0],\n",
       "       [ 0],\n",
       "       [ 0],\n",
       "       [ 0],\n",
       "       [ 0],\n",
       "       [ 0],\n",
       "       [ 0],\n",
       "       [ 0],\n",
       "       [ 0],\n",
       "       [ 0],\n",
       "       [ 0],\n",
       "       [ 0],\n",
       "       [ 0],\n",
       "       [ 0],\n",
       "       [ 0],\n",
       "       [ 0],\n",
       "       [ 0],\n",
       "       [ 0],\n",
       "       [ 0],\n",
       "       [ 0],\n",
       "       [ 0],\n",
       "       [ 0],\n",
       "       [ 0],\n",
       "       [ 0],\n",
       "       [ 0],\n",
       "       [ 0],\n",
       "       [ 0],\n",
       "       [ 0],\n",
       "       [ 0],\n",
       "       [ 0],\n",
       "       [ 0],\n",
       "       [ 0],\n",
       "       [ 0],\n",
       "       [ 0],\n",
       "       [ 0],\n",
       "       [ 0],\n",
       "       [ 0],\n",
       "       [ 0],\n",
       "       [ 0],\n",
       "       [ 0],\n",
       "       [ 0],\n",
       "       [ 0],\n",
       "       [ 0],\n",
       "       [ 0],\n",
       "       [ 0],\n",
       "       [ 0],\n",
       "       [ 0],\n",
       "       [ 0],\n",
       "       [ 0],\n",
       "       [ 0],\n",
       "       [ 0],\n",
       "       [ 0],\n",
       "       [ 0],\n",
       "       [ 0],\n",
       "       [ 0],\n",
       "       [ 0],\n",
       "       [ 0],\n",
       "       [ 0],\n",
       "       [ 0],\n",
       "       [ 0],\n",
       "       [ 0],\n",
       "       [ 0],\n",
       "       [ 0],\n",
       "       [ 0],\n",
       "       [ 0],\n",
       "       [ 0],\n",
       "       [ 0],\n",
       "       [ 0],\n",
       "       [ 0],\n",
       "       [ 0],\n",
       "       [ 0],\n",
       "       [ 0],\n",
       "       [ 0],\n",
       "       [ 0],\n",
       "       [ 0],\n",
       "       [ 0],\n",
       "       [ 0],\n",
       "       [ 0],\n",
       "       [ 0],\n",
       "       [ 0],\n",
       "       [ 0],\n",
       "       [ 0],\n",
       "       [ 0],\n",
       "       [ 0],\n",
       "       [ 0],\n",
       "       [ 0],\n",
       "       [ 0],\n",
       "       [ 0],\n",
       "       [ 0],\n",
       "       [ 0],\n",
       "       [ 0],\n",
       "       [ 0],\n",
       "       [ 0],\n",
       "       [ 0],\n",
       "       [ 0],\n",
       "       [ 0],\n",
       "       [ 0],\n",
       "       [ 0],\n",
       "       [ 0],\n",
       "       [ 0],\n",
       "       [ 0],\n",
       "       [ 0],\n",
       "       [ 0],\n",
       "       [ 0],\n",
       "       [ 0],\n",
       "       [ 0],\n",
       "       [ 0],\n",
       "       [ 0],\n",
       "       [ 0],\n",
       "       [ 0],\n",
       "       [ 0],\n",
       "       [ 0],\n",
       "       [ 0],\n",
       "       [ 0],\n",
       "       [ 0],\n",
       "       [ 0],\n",
       "       [ 0],\n",
       "       [ 0],\n",
       "       [ 0],\n",
       "       [ 0],\n",
       "       [ 0],\n",
       "       [ 0],\n",
       "       [ 0],\n",
       "       [ 0],\n",
       "       [ 0],\n",
       "       [ 0],\n",
       "       [ 0],\n",
       "       [ 0],\n",
       "       [ 0],\n",
       "       [ 0],\n",
       "       [ 0],\n",
       "       [ 0],\n",
       "       [ 0],\n",
       "       [ 0],\n",
       "       [ 0],\n",
       "       [ 0],\n",
       "       [ 0],\n",
       "       [ 0],\n",
       "       [ 0],\n",
       "       [ 0],\n",
       "       [ 0],\n",
       "       [ 0],\n",
       "       [ 0],\n",
       "       [ 0],\n",
       "       [ 0],\n",
       "       [ 0],\n",
       "       [ 0],\n",
       "       [ 0],\n",
       "       [ 0],\n",
       "       [ 0],\n",
       "       [ 0],\n",
       "       [ 0],\n",
       "       [ 0],\n",
       "       [ 0],\n",
       "       [ 0],\n",
       "       [ 0],\n",
       "       [ 0],\n",
       "       [ 0],\n",
       "       [ 0],\n",
       "       [ 0],\n",
       "       [ 0],\n",
       "       [ 0],\n",
       "       [ 0],\n",
       "       [ 0],\n",
       "       [ 0],\n",
       "       [ 0],\n",
       "       [ 0],\n",
       "       [ 0],\n",
       "       [ 0],\n",
       "       [ 0],\n",
       "       [ 0],\n",
       "       [ 0],\n",
       "       [ 0],\n",
       "       [ 0],\n",
       "       [ 0],\n",
       "       [ 0],\n",
       "       [ 0],\n",
       "       [ 0],\n",
       "       [ 0],\n",
       "       [ 0],\n",
       "       [ 0],\n",
       "       [ 0],\n",
       "       [ 0],\n",
       "       [ 0],\n",
       "       [ 0],\n",
       "       [ 0],\n",
       "       [ 0],\n",
       "       [ 0],\n",
       "       [ 0],\n",
       "       [ 0],\n",
       "       [ 0],\n",
       "       [ 0],\n",
       "       [ 0],\n",
       "       [ 0],\n",
       "       [ 0],\n",
       "       [ 0],\n",
       "       [ 0],\n",
       "       [ 0],\n",
       "       [ 0],\n",
       "       [ 0],\n",
       "       [ 0],\n",
       "       [ 0],\n",
       "       [ 0],\n",
       "       [ 0],\n",
       "       [ 0],\n",
       "       [ 0],\n",
       "       [ 0],\n",
       "       [ 0],\n",
       "       [ 0],\n",
       "       [ 0],\n",
       "       [ 0],\n",
       "       [ 0],\n",
       "       [ 0],\n",
       "       [ 0],\n",
       "       [ 0],\n",
       "       [ 0],\n",
       "       [ 0],\n",
       "       [ 0],\n",
       "       [ 0],\n",
       "       [ 0],\n",
       "       [ 0],\n",
       "       [ 0],\n",
       "       [ 0],\n",
       "       [ 0],\n",
       "       [ 0],\n",
       "       [ 0],\n",
       "       [ 0],\n",
       "       [ 0],\n",
       "       [ 0],\n",
       "       [ 0],\n",
       "       [ 0],\n",
       "       [ 0],\n",
       "       [ 0],\n",
       "       [ 0],\n",
       "       [ 0],\n",
       "       [ 0],\n",
       "       [ 0],\n",
       "       [ 0],\n",
       "       [ 0],\n",
       "       [ 0],\n",
       "       [ 0],\n",
       "       [ 0],\n",
       "       [ 0],\n",
       "       [ 0],\n",
       "       [ 0],\n",
       "       [ 0],\n",
       "       [ 0],\n",
       "       [ 0],\n",
       "       [ 0],\n",
       "       [ 0],\n",
       "       [ 0],\n",
       "       [ 0],\n",
       "       [ 0],\n",
       "       [ 0],\n",
       "       [ 0],\n",
       "       [ 0],\n",
       "       [ 0],\n",
       "       [ 0],\n",
       "       [ 0],\n",
       "       [ 0],\n",
       "       [ 0],\n",
       "       [ 0],\n",
       "       [ 0],\n",
       "       [ 0],\n",
       "       [ 0],\n",
       "       [ 0],\n",
       "       [ 0],\n",
       "       [ 0],\n",
       "       [ 0],\n",
       "       [ 0],\n",
       "       [ 0],\n",
       "       [ 0],\n",
       "       [ 0],\n",
       "       [ 0],\n",
       "       [ 0],\n",
       "       [ 0],\n",
       "       [ 0],\n",
       "       [ 0],\n",
       "       [ 0],\n",
       "       [ 0],\n",
       "       [ 0],\n",
       "       [ 0],\n",
       "       [ 0],\n",
       "       [ 0],\n",
       "       [ 0],\n",
       "       [ 0],\n",
       "       [ 0],\n",
       "       [ 0],\n",
       "       [ 0],\n",
       "       [ 0],\n",
       "       [ 0],\n",
       "       [ 0],\n",
       "       [ 0],\n",
       "       [ 0],\n",
       "       [ 0],\n",
       "       [ 0],\n",
       "       [ 0],\n",
       "       [ 0],\n",
       "       [ 0],\n",
       "       [ 0],\n",
       "       [ 0],\n",
       "       [ 0],\n",
       "       [ 0],\n",
       "       [ 0],\n",
       "       [ 0]])"
      ]
     },
     "execution_count": 17,
     "metadata": {},
     "output_type": "execute_result"
    }
   ],
   "source": [
    "tmp_x[0]"
   ]
  },
  {
   "cell_type": "code",
   "execution_count": 18,
   "metadata": {
    "colab": {
     "base_uri": "https://localhost:8080/"
    },
    "id": "dBuB49pZd1-9",
    "outputId": "5e165d21-0165-42bb-c5e2-e9bad83454ba"
   },
   "outputs": [
    {
     "ename": "NameError",
     "evalue": "name 'categorical_crossentropy' is not defined",
     "output_type": "error",
     "traceback": [
      "\u001b[1;31m---------------------------------------------------------------------------\u001b[0m",
      "\u001b[1;31mNameError\u001b[0m                                 Traceback (most recent call last)",
      "\u001b[1;32m<ipython-input-18-7b817ed2f72b>\u001b[0m in \u001b[0;36m<module>\u001b[1;34m\u001b[0m\n\u001b[1;32m----> 1\u001b[1;33m simple_rnn_model = simple_model(\n\u001b[0m\u001b[0;32m      2\u001b[0m     \u001b[0mtmp_x\u001b[0m\u001b[1;33m.\u001b[0m\u001b[0mshape\u001b[0m\u001b[1;33m,\u001b[0m\u001b[1;33m\u001b[0m\u001b[1;33m\u001b[0m\u001b[0m\n\u001b[0;32m      3\u001b[0m     \u001b[0mpreproc_plaintext_sentences\u001b[0m\u001b[1;33m.\u001b[0m\u001b[0mshape\u001b[0m\u001b[1;33m[\u001b[0m\u001b[1;36m1\u001b[0m\u001b[1;33m]\u001b[0m\u001b[1;33m,\u001b[0m\u001b[1;33m\u001b[0m\u001b[1;33m\u001b[0m\u001b[0m\n\u001b[0;32m      4\u001b[0m     \u001b[0mlen\u001b[0m\u001b[1;33m(\u001b[0m\u001b[0mcode_tokenizer\u001b[0m\u001b[1;33m.\u001b[0m\u001b[0mword_index\u001b[0m\u001b[1;33m)\u001b[0m\u001b[1;33m+\u001b[0m\u001b[1;36m1\u001b[0m\u001b[1;33m,\u001b[0m\u001b[1;33m\u001b[0m\u001b[1;33m\u001b[0m\u001b[0m\n\u001b[0;32m      5\u001b[0m     len(plaintext_tokenizer.word_index)+1)\n",
      "\u001b[1;32m<ipython-input-15-523eacc222a9>\u001b[0m in \u001b[0;36msimple_model\u001b[1;34m(input_shape, output_sequence_length, code_vocab_size, plaintext_vocab_size)\u001b[0m\n\u001b[0;32m     12\u001b[0m     \u001b[0moutput\u001b[0m \u001b[1;33m=\u001b[0m \u001b[0mTimeDistributed\u001b[0m\u001b[1;33m(\u001b[0m\u001b[0mDense\u001b[0m\u001b[1;33m(\u001b[0m\u001b[0munits\u001b[0m \u001b[1;33m=\u001b[0m \u001b[0mplaintext_vocab_size\u001b[0m\u001b[1;33m,\u001b[0m \u001b[0mactivation\u001b[0m\u001b[1;33m=\u001b[0m\u001b[1;34m'softmax'\u001b[0m\u001b[1;33m,\u001b[0m \u001b[0mname\u001b[0m\u001b[1;33m=\u001b[0m\u001b[1;34m'Layer2'\u001b[0m\u001b[1;33m)\u001b[0m\u001b[1;33m)\u001b[0m\u001b[1;33m(\u001b[0m\u001b[0mseq\u001b[0m\u001b[1;33m)\u001b[0m\u001b[1;33m\u001b[0m\u001b[1;33m\u001b[0m\u001b[0m\n\u001b[0;32m     13\u001b[0m     \u001b[0mmodel\u001b[0m \u001b[1;33m=\u001b[0m \u001b[0mModel\u001b[0m\u001b[1;33m(\u001b[0m\u001b[0minputs\u001b[0m \u001b[1;33m=\u001b[0m \u001b[0mx\u001b[0m\u001b[1;33m,\u001b[0m \u001b[0moutputs\u001b[0m \u001b[1;33m=\u001b[0m \u001b[0moutput\u001b[0m\u001b[1;33m)\u001b[0m\u001b[1;33m\u001b[0m\u001b[1;33m\u001b[0m\u001b[0m\n\u001b[1;32m---> 14\u001b[1;33m     \u001b[0mmodel\u001b[0m\u001b[1;33m.\u001b[0m\u001b[0mcompile\u001b[0m\u001b[1;33m(\u001b[0m\u001b[0moptimizer\u001b[0m\u001b[1;33m=\u001b[0m\u001b[1;34m'adam'\u001b[0m\u001b[1;33m,\u001b[0m \u001b[0mloss\u001b[0m\u001b[1;33m=\u001b[0m \u001b[0mcategorical_crossentropy\u001b[0m\u001b[1;33m,\u001b[0m \u001b[0mmetrics\u001b[0m\u001b[1;33m=\u001b[0m\u001b[1;33m[\u001b[0m\u001b[1;34m'accuracy'\u001b[0m\u001b[1;33m]\u001b[0m\u001b[1;33m)\u001b[0m\u001b[1;33m\u001b[0m\u001b[1;33m\u001b[0m\u001b[0m\n\u001b[0m\u001b[0;32m     15\u001b[0m     \u001b[0mmodel\u001b[0m\u001b[1;33m.\u001b[0m\u001b[0msummary\u001b[0m\u001b[1;33m(\u001b[0m\u001b[1;33m)\u001b[0m\u001b[1;33m\u001b[0m\u001b[1;33m\u001b[0m\u001b[0m\n\u001b[0;32m     16\u001b[0m     \u001b[1;32mreturn\u001b[0m \u001b[0mmodel\u001b[0m\u001b[1;33m\u001b[0m\u001b[1;33m\u001b[0m\u001b[0m\n",
      "\u001b[1;31mNameError\u001b[0m: name 'categorical_crossentropy' is not defined"
     ]
    }
   ],
   "source": [
    "simple_rnn_model = simple_model(\n",
    "    tmp_x.shape,\n",
    "    preproc_plaintext_sentences.shape[1],\n",
    "    len(code_tokenizer.word_index)+1,\n",
    "    len(plaintext_tokenizer.word_index)+1)"
   ]
  },
  {
   "cell_type": "code",
   "execution_count": null,
   "metadata": {
    "colab": {
     "base_uri": "https://localhost:8080/"
    },
    "id": "o1mw5FFZd1-9",
    "outputId": "fa187ab0-36f6-4793-b770-6e678781cacb"
   },
   "outputs": [],
   "source": [
    "simple_rnn_model.get_layer(name=\"Layer1\").output.shape"
   ]
  },
  {
   "cell_type": "code",
   "execution_count": null,
   "metadata": {
    "colab": {
     "base_uri": "https://localhost:8080/"
    },
    "id": "AGK61DACd1-9",
    "outputId": "6059e2f6-bcf3-4b3a-c4c0-81656b9a336f"
   },
   "outputs": [],
   "source": [
    "simple_rnn_model.fit(tmp_x, preproc_plaintext_sentences, batch_size=256, epochs=3, validation_split=0.3)"
   ]
  },
  {
   "cell_type": "code",
   "execution_count": null,
   "metadata": {
    "colab": {
     "base_uri": "https://localhost:8080/"
    },
    "id": "4PI9Ypxpd1--",
    "outputId": "18741fa3-e00d-469a-88aa-bb6944e808e3"
   },
   "outputs": [],
   "source": [
    "def logits_to_text(logits, tokenizer):\n",
    "    index_to_words = {id: word for word, id in tokenizer.word_index.items()}\n",
    "    index_to_words[0] = '<PAD>'\n",
    "\n",
    "    return ' '.join([index_to_words[prediction] for prediction in np.argmax(logits, 1)])\n",
    "print(logits_to_text(simple_rnn_model.predict(tmp_x[:1])[0], plaintext_tokenizer))"
   ]
  },
  {
   "cell_type": "code",
   "execution_count": null,
   "metadata": {
    "colab": {
     "base_uri": "https://localhost:8080/",
     "height": 35
    },
    "id": "1JG7ZGkhd1--",
    "outputId": "e27e98ad-a65e-4593-ebdd-302e859ce580"
   },
   "outputs": [],
   "source": [
    "df['Passwords'][0]"
   ]
  },
  {
   "cell_type": "markdown",
   "metadata": {
    "id": "ZF4h-TUXd1-_"
   },
   "source": [
    "# GRU"
   ]
  },
  {
   "cell_type": "code",
   "execution_count": null,
   "metadata": {
    "id": "zr9DVkOTd1-_"
   },
   "outputs": [],
   "source": [
    "x =\n",
    "def simple_model1(input_shape, output_sequence_length, code_vocab_size, plaintext_vocab_size):\n",
    "    x = Input(shape=input_shape[1:])   \n",
    "    seq = GRU(units= 64, return_sequences = True, activation=\"tanh\", name='Layer1')(x)  # output must be batchsize x timesteps x units\n",
    "    output = TimeDistributed(Dense(units = plaintext_vocab_size, activation='softmax', name='Layer2'))(seq)\n",
    "    model = Model(inputs = x, outputs = output)\n",
    "    model.compile(optimizer='adam', loss= sparse_categorical_crossentropy, metrics=['accuracy'])\n",
    "    model.summary()\n",
    "    return model"
   ]
  },
  {
   "cell_type": "code",
   "execution_count": null,
   "metadata": {
    "colab": {
     "base_uri": "https://localhost:8080/"
    },
    "id": "nv3fRkj7d1-_",
    "outputId": "ac22d596-80eb-4d0e-9cfc-090be796cf81"
   },
   "outputs": [],
   "source": [
    "simple_rnn_model1 = simple_model1(\n",
    "    tmp_x.shape,\n",
    "    preproc_plaintext_sentences.shape[1],\n",
    "    len(code_tokenizer.word_index)+1,\n",
    "    len(plaintext_tokenizer.word_index)+1)"
   ]
  },
  {
   "cell_type": "code",
   "execution_count": null,
   "metadata": {
    "colab": {
     "base_uri": "https://localhost:8080/"
    },
    "id": "oVg9KJaad1-_",
    "outputId": "4df6502d-ca0c-42df-869e-89859ed38db2"
   },
   "outputs": [],
   "source": [
    "simple_rnn_model1.fit(tmp_x, preproc_plaintext_sentences, batch_size=32, epochs=10, validation_split=0.3, use_multiprocessing=True)"
   ]
  },
  {
   "cell_type": "code",
   "execution_count": null,
   "metadata": {
    "colab": {
     "base_uri": "https://localhost:8080/"
    },
    "id": "sr0zJux1d1-_",
    "outputId": "54ac6118-4a93-4968-f8c8-1dd9a11f76f7"
   },
   "outputs": [],
   "source": [
    "print(logits_to_text(simple_rnn_model1.predict(tmp_x[:1])[0], plaintext_tokenizer))"
   ]
  },
  {
   "cell_type": "code",
   "execution_count": null,
   "metadata": {
    "colab": {
     "base_uri": "https://localhost:8080/",
     "height": 35
    },
    "id": "fFQT3peGUOHg",
    "outputId": "659da06c-0ebb-44cf-ec44-6f90d7fc0379"
   },
   "outputs": [],
   "source": [
    "df['Passwords'][0]"
   ]
  },
  {
   "cell_type": "markdown",
   "metadata": {
    "id": "DHjZkjOzd1_A"
   },
   "source": [
    "# SimpleRNN"
   ]
  },
  {
   "cell_type": "code",
   "execution_count": null,
   "metadata": {
    "id": "baVCVerFd1_A"
   },
   "outputs": [],
   "source": [
    "from keras.layers import SimpleRNN \n",
    "def simple_model2(input_shape, output_sequence_length, code_vocab_size, plaintext_vocab_size):\n",
    "    x = Input(shape=input_shape[1:])      \n",
    "    seq = SimpleRNN(units= 64, return_sequences = True, activation=\"tanh\", name='Layer1')(x)   \n",
    "    output = TimeDistributed(Dense(units = plaintext_vocab_size, activation='softmax', name='Layer2'))(seq)    \n",
    "    model = Model(inputs = x, outputs = output)    \n",
    "    model.compile(optimizer='adam', loss= sparse_categorical_crossentropy, metrics=['accuracy'])    \n",
    "    model.summary()    \n",
    "    return model"
   ]
  },
  {
   "cell_type": "code",
   "execution_count": null,
   "metadata": {
    "colab": {
     "base_uri": "https://localhost:8080/"
    },
    "id": "yieRDWbzd1_A",
    "outputId": "0db4c447-20c1-4589-f29d-150d755c913c"
   },
   "outputs": [],
   "source": [
    "simple_rnn_model2 = simple_model2(\n",
    "    tmp_x.shape,\n",
    "    preproc_plaintext_sentences.shape[1],\n",
    "    len(code_tokenizer.word_index)+1,\n",
    "    len(plaintext_tokenizer.word_index)+1)"
   ]
  },
  {
   "cell_type": "code",
   "execution_count": null,
   "metadata": {
    "colab": {
     "base_uri": "https://localhost:8080/"
    },
    "id": "Nbr40u5Gd1_A",
    "outputId": "227f6ecf-3795-46ee-85d7-04ced2d0c98b",
    "scrolled": true
   },
   "outputs": [],
   "source": [
    "simple_rnn_model2.fit(tmp_x, preproc_plaintext_sentences, batch_size=32, epochs=10, validation_split=0.3, use_multiprocessing=True)"
   ]
  },
  {
   "cell_type": "code",
   "execution_count": null,
   "metadata": {
    "colab": {
     "base_uri": "https://localhost:8080/"
    },
    "id": "HYddd_hgd1_A",
    "outputId": "e20b6799-3560-4480-a15d-a356d76bd72f"
   },
   "outputs": [],
   "source": [
    "print(logits_to_text(simple_rnn_model2.predict(tmp_x[:1])[0], plaintext_tokenizer))"
   ]
  },
  {
   "cell_type": "code",
   "execution_count": null,
   "metadata": {
    "colab": {
     "base_uri": "https://localhost:8080/",
     "height": 35
    },
    "id": "FOpT4aQHUsbA",
    "outputId": "6a111a74-a67e-42bb-eaa0-1c0b7f77c749"
   },
   "outputs": [],
   "source": [
    "df['Passwords'][0]"
   ]
  },
  {
   "cell_type": "code",
   "execution_count": null,
   "metadata": {},
   "outputs": [],
   "source": []
  }
 ],
 "metadata": {
  "colab": {
   "collapsed_sections": [],
   "name": "Deciphering Code with Character-Level RNN.ipynb",
   "provenance": []
  },
  "kernelspec": {
   "display_name": "Python 3",
   "language": "python",
   "name": "python3"
  },
  "language_info": {
   "codemirror_mode": {
    "name": "ipython",
    "version": 3
   },
   "file_extension": ".py",
   "mimetype": "text/x-python",
   "name": "python",
   "nbconvert_exporter": "python",
   "pygments_lexer": "ipython3",
   "version": "3.8.5"
  }
 },
 "nbformat": 4,
 "nbformat_minor": 1
}
