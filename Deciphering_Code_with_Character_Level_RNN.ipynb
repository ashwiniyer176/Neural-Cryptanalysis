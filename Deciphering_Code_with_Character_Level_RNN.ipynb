{
 "cells": [
  {
   "cell_type": "markdown",
   "metadata": {
    "id": "5GSMwZnsd1-u"
   },
   "source": [
    "# Deciphering Code with Character-Level RNN\n",
    "\n",
    "\n",
    "\n"
   ]
  },
  {
   "cell_type": "markdown",
   "metadata": {
    "id": "gOHhumaPBdAk"
   },
   "source": [
    "## Dataset"
   ]
  },
  {
   "cell_type": "code",
   "execution_count": 1,
   "metadata": {},
   "outputs": [],
   "source": [
    "import pandas as pd\n",
    "import numpy as np\n",
    "\n",
    "from keras.preprocessing.text import Tokenizer\n",
    "import numpy as np\n",
    "from keras.preprocessing.sequence import pad_sequences"
   ]
  },
  {
   "cell_type": "code",
   "execution_count": 2,
   "metadata": {
    "scrolled": true
   },
   "outputs": [
    {
     "data": {
      "text/html": [
       "<div>\n",
       "<style scoped>\n",
       "    .dataframe tbody tr th:only-of-type {\n",
       "        vertical-align: middle;\n",
       "    }\n",
       "\n",
       "    .dataframe tbody tr th {\n",
       "        vertical-align: top;\n",
       "    }\n",
       "\n",
       "    .dataframe thead th {\n",
       "        text-align: right;\n",
       "    }\n",
       "</style>\n",
       "<table border=\"1\" class=\"dataframe\">\n",
       "  <thead>\n",
       "    <tr style=\"text-align: right;\">\n",
       "      <th></th>\n",
       "      <th>Passwords</th>\n",
       "      <th>ciphertext</th>\n",
       "      <th>key</th>\n",
       "    </tr>\n",
       "  </thead>\n",
       "  <tbody>\n",
       "    <tr>\n",
       "      <th>0</th>\n",
       "      <td>123456</td>\n",
       "      <td>567890</td>\n",
       "      <td>6</td>\n",
       "    </tr>\n",
       "    <tr>\n",
       "      <th>1</th>\n",
       "      <td>12345</td>\n",
       "      <td>56789</td>\n",
       "      <td>6</td>\n",
       "    </tr>\n",
       "    <tr>\n",
       "      <th>2</th>\n",
       "      <td>123456789</td>\n",
       "      <td>789012345</td>\n",
       "      <td>14</td>\n",
       "    </tr>\n",
       "    <tr>\n",
       "      <th>3</th>\n",
       "      <td>password</td>\n",
       "      <td>bmeeiadp</td>\n",
       "      <td>14</td>\n",
       "    </tr>\n",
       "    <tr>\n",
       "      <th>4</th>\n",
       "      <td>iloveyou</td>\n",
       "      <td>nqtajdtz</td>\n",
       "      <td>21</td>\n",
       "    </tr>\n",
       "    <tr>\n",
       "      <th>...</th>\n",
       "      <td>...</td>\n",
       "      <td>...</td>\n",
       "      <td>...</td>\n",
       "    </tr>\n",
       "    <tr>\n",
       "      <th>14343471</th>\n",
       "      <td>\u001axCvBnM,</td>\n",
       "      <td>tYrXjI</td>\n",
       "      <td>4</td>\n",
       "    </tr>\n",
       "    <tr>\n",
       "      <th>14343472</th>\n",
       "      <td>\bie168</td>\n",
       "      <td>bx491</td>\n",
       "      <td>7</td>\n",
       "    </tr>\n",
       "    <tr>\n",
       "      <th>14343473</th>\n",
       "      <td>\babygurl69</td>\n",
       "      <td>cdaiwtn69</td>\n",
       "      <td>24</td>\n",
       "    </tr>\n",
       "    <tr>\n",
       "      <th>14343474</th>\n",
       "      <td>\ba6_123</td>\n",
       "      <td>i8345</td>\n",
       "      <td>18</td>\n",
       "    </tr>\n",
       "    <tr>\n",
       "      <th>14343475</th>\n",
       "      <td>\u0004*\u00037Â¡Vamos!\u0003</td>\n",
       "      <td>0ÂEjvxb</td>\n",
       "      <td>17</td>\n",
       "    </tr>\n",
       "  </tbody>\n",
       "</table>\n",
       "<p>14343476 rows × 3 columns</p>\n",
       "</div>"
      ],
      "text/plain": [
       "              Passwords ciphertext  key\n",
       "0                123456     567890    6\n",
       "1                 12345      56789    6\n",
       "2             123456789  789012345   14\n",
       "3              password   bmeeiadp   14\n",
       "4              iloveyou   nqtajdtz   21\n",
       "...                 ...        ...  ...\n",
       "14343471       \u001axCvBnM,     tYrXjI    4\n",
       "14343472         \bie168      bx491    7\n",
       "14343473     \babygurl69  cdaiwtn69   24\n",
       "14343474        \ba6_123      i8345   18\n",
       "14343475  \u0004*\u00037Â¡Vamos!\u0003    0ÂEjvxb   17\n",
       "\n",
       "[14343476 rows x 3 columns]"
      ]
     },
     "execution_count": 2,
     "metadata": {},
     "output_type": "execute_result"
    }
   ],
   "source": [
    "df = pd.read_csv('./data/CaesarCipher.csv')\n",
    "df"
   ]
  },
  {
   "cell_type": "code",
   "execution_count": 3,
   "metadata": {},
   "outputs": [],
   "source": [
    "df = df.dropna()[:120000]"
   ]
  },
  {
   "cell_type": "code",
   "execution_count": 4,
   "metadata": {},
   "outputs": [
    {
     "data": {
      "text/html": [
       "<div>\n",
       "<style scoped>\n",
       "    .dataframe tbody tr th:only-of-type {\n",
       "        vertical-align: middle;\n",
       "    }\n",
       "\n",
       "    .dataframe tbody tr th {\n",
       "        vertical-align: top;\n",
       "    }\n",
       "\n",
       "    .dataframe thead th {\n",
       "        text-align: right;\n",
       "    }\n",
       "</style>\n",
       "<table border=\"1\" class=\"dataframe\">\n",
       "  <thead>\n",
       "    <tr style=\"text-align: right;\">\n",
       "      <th></th>\n",
       "      <th>Passwords</th>\n",
       "      <th>ciphertext</th>\n",
       "      <th>key</th>\n",
       "    </tr>\n",
       "  </thead>\n",
       "  <tbody>\n",
       "    <tr>\n",
       "      <th>0</th>\n",
       "      <td>123456</td>\n",
       "      <td>567890</td>\n",
       "      <td>6</td>\n",
       "    </tr>\n",
       "    <tr>\n",
       "      <th>1</th>\n",
       "      <td>12345</td>\n",
       "      <td>56789</td>\n",
       "      <td>6</td>\n",
       "    </tr>\n",
       "    <tr>\n",
       "      <th>2</th>\n",
       "      <td>123456789</td>\n",
       "      <td>789012345</td>\n",
       "      <td>14</td>\n",
       "    </tr>\n",
       "    <tr>\n",
       "      <th>3</th>\n",
       "      <td>password</td>\n",
       "      <td>bmeeiadp</td>\n",
       "      <td>14</td>\n",
       "    </tr>\n",
       "    <tr>\n",
       "      <th>4</th>\n",
       "      <td>iloveyou</td>\n",
       "      <td>nqtajdtz</td>\n",
       "      <td>21</td>\n",
       "    </tr>\n",
       "    <tr>\n",
       "      <th>...</th>\n",
       "      <td>...</td>\n",
       "      <td>...</td>\n",
       "      <td>...</td>\n",
       "    </tr>\n",
       "    <tr>\n",
       "      <th>120022</th>\n",
       "      <td>270796</td>\n",
       "      <td>947463</td>\n",
       "      <td>3</td>\n",
       "    </tr>\n",
       "    <tr>\n",
       "      <th>120023</th>\n",
       "      <td>270783</td>\n",
       "      <td>947450</td>\n",
       "      <td>13</td>\n",
       "    </tr>\n",
       "    <tr>\n",
       "      <th>120024</th>\n",
       "      <td>27061992</td>\n",
       "      <td>16950881</td>\n",
       "      <td>1</td>\n",
       "    </tr>\n",
       "    <tr>\n",
       "      <th>120025</th>\n",
       "      <td>27061985</td>\n",
       "      <td>83627541</td>\n",
       "      <td>14</td>\n",
       "    </tr>\n",
       "    <tr>\n",
       "      <th>120026</th>\n",
       "      <td>270607</td>\n",
       "      <td>614041</td>\n",
       "      <td>6</td>\n",
       "    </tr>\n",
       "  </tbody>\n",
       "</table>\n",
       "<p>120000 rows × 3 columns</p>\n",
       "</div>"
      ],
      "text/plain": [
       "        Passwords ciphertext  key\n",
       "0          123456     567890    6\n",
       "1           12345      56789    6\n",
       "2       123456789  789012345   14\n",
       "3        password   bmeeiadp   14\n",
       "4        iloveyou   nqtajdtz   21\n",
       "...           ...        ...  ...\n",
       "120022     270796     947463    3\n",
       "120023     270783     947450   13\n",
       "120024   27061992   16950881    1\n",
       "120025   27061985   83627541   14\n",
       "120026     270607     614041    6\n",
       "\n",
       "[120000 rows x 3 columns]"
      ]
     },
     "execution_count": 4,
     "metadata": {},
     "output_type": "execute_result"
    }
   ],
   "source": [
    "df['Passwords'].apply(str)\n",
    "df['ciphertext'].apply(str)\n",
    "df"
   ]
  },
  {
   "cell_type": "markdown",
   "metadata": {
    "id": "44T02G-FBNYf"
   },
   "source": [
    "## Preprocessing Data"
   ]
  },
  {
   "cell_type": "code",
   "execution_count": 5,
   "metadata": {
    "colab": {
     "base_uri": "https://localhost:8080/"
    },
    "id": "I9b4vwned1-4",
    "outputId": "a955da71-52ac-4881-e8ed-78d398c47ec9"
   },
   "outputs": [],
   "source": [
    "def tokenize(x):\n",
    "    x_tk = Tokenizer(char_level=True)\n",
    "    x_tk.fit_on_texts(x)                 \n",
    "\n",
    "    return x_tk.texts_to_sequences(x), x_tk\n",
    "\n",
    "def pad(x, length=None):\n",
    "    if length is None:\n",
    "        length = max([len(sentence) for sentence in x])\n",
    "    \n",
    "    return pad_sequences(x, maxlen=length, padding=\"post\", truncating=\"post\",)"
   ]
  },
  {
   "cell_type": "markdown",
   "metadata": {
    "id": "fdV69c9gd1-5"
   },
   "source": [
    "### Preprocess Pipeline"
   ]
  },
  {
   "cell_type": "code",
   "execution_count": 6,
   "metadata": {
    "colab": {
     "base_uri": "https://localhost:8080/"
    },
    "id": "uxTxyzCHd1-5",
    "outputId": "3f358e66-7cca-4959-8f96-5b96b818532f"
   },
   "outputs": [],
   "source": [
    "def preprocess(x, y):\n",
    "    preprocess_x, x_tk = tokenize(x)\n",
    "    preprocess_y, y_tk = tokenize(y)\n",
    "\n",
    "    preprocess_x = pad(preprocess_x)\n",
    "    preprocess_y = pad(preprocess_y)\n",
    "\n",
    "    preprocess_y = preprocess_y.reshape(*preprocess_y.shape, 1)\n",
    "\n",
    "    return preprocess_x, preprocess_y, x_tk, y_tk"
   ]
  },
  {
   "cell_type": "code",
   "execution_count": 7,
   "metadata": {},
   "outputs": [
    {
     "name": "stdout",
     "output_type": "stream",
     "text": [
      "Data Preprocessed\n"
     ]
    }
   ],
   "source": [
    "preproc_code_sentences, preproc_plaintext_sentences, code_tokenizer, plaintext_tokenizer = preprocess(df['Passwords'], df['ciphertext'])\n",
    "\n",
    "print('Data Preprocessed')"
   ]
  },
  {
   "cell_type": "code",
   "execution_count": 8,
   "metadata": {
    "colab": {
     "base_uri": "https://localhost:8080/"
    },
    "id": "-NlbiDf-d1-6",
    "outputId": "21c9cb2e-025e-4032-e29b-8d5a36a6cd4a"
   },
   "outputs": [
    {
     "data": {
      "text/plain": [
       "array([ 3, 12, 22, 26, 27, 29,  0,  0,  0,  0,  0,  0,  0,  0,  0,  0,  0,\n",
       "        0,  0,  0,  0,  0,  0,  0,  0,  0,  0,  0,  0,  0,  0,  0,  0,  0,\n",
       "        0,  0,  0,  0,  0])"
      ]
     },
     "execution_count": 8,
     "metadata": {},
     "output_type": "execute_result"
    }
   ],
   "source": [
    "preproc_code_sentences[0]"
   ]
  },
  {
   "cell_type": "code",
   "execution_count": 9,
   "metadata": {
    "colab": {
     "base_uri": "https://localhost:8080/"
    },
    "id": "CrK0B3ttd1-6",
    "outputId": "86b2b875-ef69-4f0b-f245-62dbf0d7bb3d"
   },
   "outputs": [
    {
     "data": {
      "text/plain": [
       "78"
      ]
     },
     "execution_count": 9,
     "metadata": {},
     "output_type": "execute_result"
    }
   ],
   "source": [
    "len(code_tokenizer.word_index)+1"
   ]
  },
  {
   "cell_type": "code",
   "execution_count": 10,
   "metadata": {
    "colab": {
     "base_uri": "https://localhost:8080/"
    },
    "id": "DRkiK6Qjd1-6",
    "outputId": "a473c0bf-f76d-4689-8884-028a871751b7"
   },
   "outputs": [
    {
     "data": {
      "text/plain": [
       "41"
      ]
     },
     "execution_count": 10,
     "metadata": {},
     "output_type": "execute_result"
    }
   ],
   "source": [
    "len(plaintext_tokenizer.word_index)+1"
   ]
  },
  {
   "cell_type": "code",
   "execution_count": 11,
   "metadata": {
    "colab": {
     "base_uri": "https://localhost:8080/"
    },
    "id": "Hk8HcQtEd1-7",
    "outputId": "e734311c-c349-47d9-c726-ff275f434840"
   },
   "outputs": [
    {
     "data": {
      "text/plain": [
       "{'1': 1,\n",
       " 'x': 2,\n",
       " 'w': 3,\n",
       " 'j': 4,\n",
       " 'f': 5,\n",
       " 'z': 6,\n",
       " 'q': 7,\n",
       " 'k': 8,\n",
       " 'v': 9,\n",
       " 'h': 10,\n",
       " 'y': 11,\n",
       " 'b': 12,\n",
       " 'g': 13,\n",
       " 'c': 14,\n",
       " 'd': 15,\n",
       " 'u': 16,\n",
       " 'p': 17,\n",
       " 't': 18,\n",
       " 'm': 19,\n",
       " 'l': 20,\n",
       " 'n': 21,\n",
       " 's': 22,\n",
       " 'i': 23,\n",
       " 'r': 24,\n",
       " '0': 25,\n",
       " 'o': 26,\n",
       " 'e': 27,\n",
       " '2': 28,\n",
       " 'a': 29,\n",
       " '9': 30,\n",
       " '8': 31,\n",
       " '3': 32,\n",
       " '4': 33,\n",
       " '6': 34,\n",
       " '5': 35,\n",
       " '7': 36,\n",
       " 'ã': 37,\n",
       " 'à': 38,\n",
       " 'â': 39,\n",
       " '¹': 40}"
      ]
     },
     "execution_count": 11,
     "metadata": {},
     "output_type": "execute_result"
    }
   ],
   "source": [
    "plaintext_tokenizer.word_index"
   ]
  },
  {
   "cell_type": "code",
   "execution_count": 12,
   "metadata": {
    "colab": {
     "base_uri": "https://localhost:8080/"
    },
    "id": "PPevgp-id1-7",
    "outputId": "e7085fd4-de9d-4636-a167-3681e52eb0a6"
   },
   "outputs": [
    {
     "data": {
      "text/plain": [
       "(120000, 39)"
      ]
     },
     "execution_count": 12,
     "metadata": {},
     "output_type": "execute_result"
    }
   ],
   "source": [
    "preproc_code_sentences.shape"
   ]
  },
  {
   "cell_type": "code",
   "execution_count": 13,
   "metadata": {
    "colab": {
     "base_uri": "https://localhost:8080/"
    },
    "id": "cxFxFP-Bd1-7",
    "outputId": "f2ae4663-bf7d-4992-ebad-54c974e2b78e"
   },
   "outputs": [
    {
     "data": {
      "text/plain": [
       "(120000, 32, 1)"
      ]
     },
     "execution_count": 13,
     "metadata": {},
     "output_type": "execute_result"
    }
   ],
   "source": [
    "preproc_plaintext_sentences.shape"
   ]
  },
  {
   "cell_type": "markdown",
   "metadata": {
    "id": "sKHZqlXyd1-8"
   },
   "source": [
    "# LSTM"
   ]
  },
  {
   "cell_type": "code",
   "execution_count": 14,
   "metadata": {
    "id": "HnLsrRNZd1-8"
   },
   "outputs": [],
   "source": [
    "from keras.layers import GRU, Input, Dense, TimeDistributed, RNN, LSTM\n",
    "from keras.models import Model, Sequential\n",
    "from keras.layers import Activation\n",
    "from tensorflow.keras.optimizers import Adam\n",
    "from keras.losses import sparse_categorical_crossentropy\n",
    "import tensorflow\n",
    "\n",
    "\n",
    "def simple_model(input_shape, output_sequence_length, code_vocab_size, plaintext_vocab_size):\n",
    "    x = Input(shape=input_shape[1:])   \n",
    "    seq = LSTM(units= 64, return_sequences = True, activation=\"tanh\", name='Layer1')(x)\n",
    "    output = TimeDistributed(Dense(units = plaintext_vocab_size, activation='softmax', name='Layer2'))(seq)\n",
    "    model = Model(inputs = x, outputs = output)\n",
    "    model.compile(optimizer='adam', loss= sparse_categorical_crossentropy, metrics=['accuracy'])\n",
    "    model.summary()\n",
    "    return model\n",
    "\n",
    "tmp_x = pad(preproc_code_sentences, preproc_plaintext_sentences.shape[1]) \n",
    "tmp_x = tmp_x.reshape((-1, preproc_plaintext_sentences.shape[-2], 1))     "
   ]
  },
  {
   "cell_type": "code",
   "execution_count": 15,
   "metadata": {
    "colab": {
     "base_uri": "https://localhost:8080/"
    },
    "id": "yOCnrOcnd1-8",
    "outputId": "e9ed1e68-9923-49c0-fe27-7fc6040b24cc"
   },
   "outputs": [
    {
     "data": {
      "text/plain": [
       "(120000, 32, 1)"
      ]
     },
     "execution_count": 15,
     "metadata": {},
     "output_type": "execute_result"
    }
   ],
   "source": [
    "tmp_x.shape"
   ]
  },
  {
   "cell_type": "code",
   "execution_count": 16,
   "metadata": {
    "colab": {
     "base_uri": "https://localhost:8080/"
    },
    "id": "dBuB49pZd1-9",
    "outputId": "5e165d21-0165-42bb-c5e2-e9bad83454ba"
   },
   "outputs": [
    {
     "name": "stdout",
     "output_type": "stream",
     "text": [
      "Model: \"model\"\n",
      "_________________________________________________________________\n",
      "Layer (type)                 Output Shape              Param #   \n",
      "=================================================================\n",
      "input_1 (InputLayer)         [(None, 32, 1)]           0         \n",
      "_________________________________________________________________\n",
      "Layer1 (LSTM)                (None, 32, 64)            16896     \n",
      "_________________________________________________________________\n",
      "time_distributed (TimeDistri (None, 32, 41)            2665      \n",
      "=================================================================\n",
      "Total params: 19,561\n",
      "Trainable params: 19,561\n",
      "Non-trainable params: 0\n",
      "_________________________________________________________________\n"
     ]
    }
   ],
   "source": [
    "simple_rnn_model = simple_model(\n",
    "    tmp_x.shape,\n",
    "    preproc_plaintext_sentences.shape[1],\n",
    "    len(code_tokenizer.word_index)+1,\n",
    "    len(plaintext_tokenizer.word_index)+1)"
   ]
  },
  {
   "cell_type": "code",
   "execution_count": 17,
   "metadata": {
    "colab": {
     "base_uri": "https://localhost:8080/"
    },
    "id": "o1mw5FFZd1-9",
    "outputId": "fa187ab0-36f6-4793-b770-6e678781cacb"
   },
   "outputs": [
    {
     "data": {
      "text/plain": [
       "TensorShape([None, 32, 64])"
      ]
     },
     "execution_count": 17,
     "metadata": {},
     "output_type": "execute_result"
    }
   ],
   "source": [
    "simple_rnn_model.get_layer(name=\"Layer1\").output.shape"
   ]
  },
  {
   "cell_type": "code",
   "execution_count": 18,
   "metadata": {
    "colab": {
     "base_uri": "https://localhost:8080/"
    },
    "id": "AGK61DACd1-9",
    "outputId": "6059e2f6-bcf3-4b3a-c4c0-81656b9a336f"
   },
   "outputs": [
    {
     "name": "stdout",
     "output_type": "stream",
     "text": [
      "Epoch 1/15\n",
      "2625/2625 [==============================] - 31s 6ms/step - loss: 0.9278 - accuracy: 0.7772 - val_loss: 0.7818 - val_accuracy: 0.7850\n",
      "Epoch 2/15\n",
      "2625/2625 [==============================] - 14s 5ms/step - loss: 0.7546 - accuracy: 0.7899 - val_loss: 0.7492 - val_accuracy: 0.7881\n",
      "Epoch 3/15\n",
      "2625/2625 [==============================] - 14s 5ms/step - loss: 0.7249 - accuracy: 0.7926 - val_loss: 0.7341 - val_accuracy: 0.7887\n",
      "Epoch 4/15\n",
      "2625/2625 [==============================] - 14s 5ms/step - loss: 0.7145 - accuracy: 0.7934 - val_loss: 0.7278 - val_accuracy: 0.7901\n",
      "Epoch 5/15\n",
      "2625/2625 [==============================] - 14s 5ms/step - loss: 0.7093 - accuracy: 0.7940 - val_loss: 0.7240 - val_accuracy: 0.7905\n",
      "Epoch 6/15\n",
      "2625/2625 [==============================] - 14s 5ms/step - loss: 0.7054 - accuracy: 0.7946 - val_loss: 0.7212 - val_accuracy: 0.7901\n",
      "Epoch 7/15\n",
      "2625/2625 [==============================] - 14s 5ms/step - loss: 0.7030 - accuracy: 0.7948 - val_loss: 0.7198 - val_accuracy: 0.7905\n",
      "Epoch 8/15\n",
      "2625/2625 [==============================] - 14s 5ms/step - loss: 0.7011 - accuracy: 0.7950 - val_loss: 0.7175 - val_accuracy: 0.7907\n",
      "Epoch 9/15\n",
      "2625/2625 [==============================] - 14s 5ms/step - loss: 0.6990 - accuracy: 0.7954 - val_loss: 0.7171 - val_accuracy: 0.7904\n",
      "Epoch 10/15\n",
      "2625/2625 [==============================] - 14s 5ms/step - loss: 0.6981 - accuracy: 0.7952 - val_loss: 0.7146 - val_accuracy: 0.7913\n",
      "Epoch 11/15\n",
      "2625/2625 [==============================] - 14s 5ms/step - loss: 0.6964 - accuracy: 0.7956 - val_loss: 0.7134 - val_accuracy: 0.7913\n",
      "Epoch 12/15\n",
      "2625/2625 [==============================] - 14s 5ms/step - loss: 0.6953 - accuracy: 0.7958 - val_loss: 0.7122 - val_accuracy: 0.7918\n",
      "Epoch 13/15\n",
      "2625/2625 [==============================] - 14s 5ms/step - loss: 0.6945 - accuracy: 0.7958 - val_loss: 0.7119 - val_accuracy: 0.7914\n",
      "Epoch 14/15\n",
      "2625/2625 [==============================] - 13s 5ms/step - loss: 0.6925 - accuracy: 0.7962 - val_loss: 0.7109 - val_accuracy: 0.7916\n",
      "Epoch 15/15\n",
      "2625/2625 [==============================] - 14s 5ms/step - loss: 0.6922 - accuracy: 0.7962 - val_loss: 0.7100 - val_accuracy: 0.7920\n"
     ]
    },
    {
     "data": {
      "text/plain": [
       "<keras.callbacks.History at 0x185997bb700>"
      ]
     },
     "execution_count": 18,
     "metadata": {},
     "output_type": "execute_result"
    }
   ],
   "source": [
    "simple_rnn_model.fit(tmp_x, preproc_plaintext_sentences, batch_size=32, epochs=15, validation_split=0.3, use_multiprocessing=True)"
   ]
  },
  {
   "cell_type": "code",
   "execution_count": 19,
   "metadata": {
    "colab": {
     "base_uri": "https://localhost:8080/"
    },
    "id": "4PI9Ypxpd1--",
    "outputId": "18741fa3-e00d-469a-88aa-bb6944e808e3"
   },
   "outputs": [
    {
     "name": "stdout",
     "output_type": "stream",
     "text": [
      "1 2 3 8 5 6 <PAD> <PAD> <PAD> <PAD> <PAD> <PAD> <PAD> <PAD> <PAD> <PAD> <PAD> <PAD> <PAD> <PAD> <PAD> <PAD> <PAD> <PAD> <PAD> <PAD> <PAD> <PAD> <PAD> <PAD> <PAD> <PAD>\n"
     ]
    }
   ],
   "source": [
    "def logits_to_text(logits, tokenizer):\n",
    "    index_to_words = {id: word for word, id in tokenizer.word_index.items()}\n",
    "    index_to_words[0] = '<PAD>'\n",
    "\n",
    "    return ' '.join([index_to_words[prediction] for prediction in np.argmax(logits, 1)])\n",
    "print(logits_to_text(simple_rnn_model.predict(tmp_x[:1])[0], plaintext_tokenizer))"
   ]
  },
  {
   "cell_type": "code",
   "execution_count": 20,
   "metadata": {
    "colab": {
     "base_uri": "https://localhost:8080/",
     "height": 35
    },
    "id": "1JG7ZGkhd1--",
    "outputId": "e27e98ad-a65e-4593-ebdd-302e859ce580"
   },
   "outputs": [
    {
     "data": {
      "text/plain": [
       "'123456'"
      ]
     },
     "execution_count": 20,
     "metadata": {},
     "output_type": "execute_result"
    }
   ],
   "source": [
    "df['Passwords'][0]"
   ]
  },
  {
   "cell_type": "markdown",
   "metadata": {
    "id": "ZF4h-TUXd1-_"
   },
   "source": [
    "# GRU"
   ]
  },
  {
   "cell_type": "code",
   "execution_count": 21,
   "metadata": {
    "id": "zr9DVkOTd1-_"
   },
   "outputs": [],
   "source": [
    "def simple_model1(input_shape, output_sequence_length, code_vocab_size, plaintext_vocab_size):\n",
    "    x = Input(shape=input_shape[1:])   \n",
    "    seq = GRU(units= 64, return_sequences = True, activation=\"tanh\", name='Layer1')(x)  # output must be batchsize x timesteps x units\n",
    "    output = TimeDistributed(Dense(units = plaintext_vocab_size, activation='softmax', name='Layer2'))(seq)\n",
    "    model = Model(inputs = x, outputs = output)\n",
    "    model.compile(optimizer='adam', loss= sparse_categorical_crossentropy, metrics=['accuracy'])\n",
    "    model.summary()\n",
    "    return model"
   ]
  },
  {
   "cell_type": "code",
   "execution_count": 22,
   "metadata": {
    "colab": {
     "base_uri": "https://localhost:8080/"
    },
    "id": "nv3fRkj7d1-_",
    "outputId": "ac22d596-80eb-4d0e-9cfc-090be796cf81"
   },
   "outputs": [
    {
     "name": "stdout",
     "output_type": "stream",
     "text": [
      "Model: \"model_1\"\n",
      "_________________________________________________________________\n",
      "Layer (type)                 Output Shape              Param #   \n",
      "=================================================================\n",
      "input_2 (InputLayer)         [(None, 32, 1)]           0         \n",
      "_________________________________________________________________\n",
      "Layer1 (GRU)                 (None, 32, 64)            12864     \n",
      "_________________________________________________________________\n",
      "time_distributed_1 (TimeDist (None, 32, 41)            2665      \n",
      "=================================================================\n",
      "Total params: 15,529\n",
      "Trainable params: 15,529\n",
      "Non-trainable params: 0\n",
      "_________________________________________________________________\n"
     ]
    }
   ],
   "source": [
    "simple_rnn_model1 = simple_model1(\n",
    "    tmp_x.shape,\n",
    "    preproc_plaintext_sentences.shape[1],\n",
    "    len(code_tokenizer.word_index)+1,\n",
    "    len(plaintext_tokenizer.word_index)+1)"
   ]
  },
  {
   "cell_type": "code",
   "execution_count": 23,
   "metadata": {
    "colab": {
     "base_uri": "https://localhost:8080/"
    },
    "id": "oVg9KJaad1-_",
    "outputId": "4df6502d-ca0c-42df-869e-89859ed38db2"
   },
   "outputs": [
    {
     "name": "stdout",
     "output_type": "stream",
     "text": [
      "Epoch 1/15\n",
      "2625/2625 [==============================] - 16s 5ms/step - loss: 0.9549 - accuracy: 0.7810 - val_loss: 0.7640 - val_accuracy: 0.7863\n",
      "Epoch 2/15\n",
      "2625/2625 [==============================] - 13s 5ms/step - loss: 0.7326 - accuracy: 0.7918 - val_loss: 0.7319 - val_accuracy: 0.7890\n",
      "Epoch 3/15\n",
      "2625/2625 [==============================] - 14s 5ms/step - loss: 0.7109 - accuracy: 0.7932 - val_loss: 0.7246 - val_accuracy: 0.7894\n",
      "Epoch 4/15\n",
      "2625/2625 [==============================] - 14s 5ms/step - loss: 0.7059 - accuracy: 0.7938 - val_loss: 0.7211 - val_accuracy: 0.7903\n",
      "Epoch 5/15\n",
      "2625/2625 [==============================] - 14s 5ms/step - loss: 0.7024 - accuracy: 0.7947 - val_loss: 0.7165 - val_accuracy: 0.7912\n",
      "Epoch 6/15\n",
      "2625/2625 [==============================] - 14s 5ms/step - loss: 0.6997 - accuracy: 0.7951 - val_loss: 0.7147 - val_accuracy: 0.7912\n",
      "Epoch 7/15\n",
      "2625/2625 [==============================] - 16s 6ms/step - loss: 0.6972 - accuracy: 0.7955 - val_loss: 0.7137 - val_accuracy: 0.7913\n",
      "Epoch 8/15\n",
      "2625/2625 [==============================] - 16s 6ms/step - loss: 0.6960 - accuracy: 0.7956 - val_loss: 0.7122 - val_accuracy: 0.7919\n",
      "Epoch 9/15\n",
      "2625/2625 [==============================] - 15s 6ms/step - loss: 0.6942 - accuracy: 0.7959 - val_loss: 0.7106 - val_accuracy: 0.7918\n",
      "Epoch 10/15\n",
      "2625/2625 [==============================] - 15s 6ms/step - loss: 0.6929 - accuracy: 0.7961 - val_loss: 0.7100 - val_accuracy: 0.7914\n",
      "Epoch 11/15\n",
      "2625/2625 [==============================] - 15s 6ms/step - loss: 0.6925 - accuracy: 0.7958 - val_loss: 0.7102 - val_accuracy: 0.7919\n",
      "Epoch 12/15\n",
      "2625/2625 [==============================] - 14s 6ms/step - loss: 0.6911 - accuracy: 0.7961 - val_loss: 0.7080 - val_accuracy: 0.7922\n",
      "Epoch 13/15\n",
      "2625/2625 [==============================] - 15s 6ms/step - loss: 0.6890 - accuracy: 0.7964 - val_loss: 0.7070 - val_accuracy: 0.7919\n",
      "Epoch 14/15\n",
      "2625/2625 [==============================] - 14s 5ms/step - loss: 0.6893 - accuracy: 0.7961 - val_loss: 0.7065 - val_accuracy: 0.7920\n",
      "Epoch 15/15\n",
      "2625/2625 [==============================] - 13s 5ms/step - loss: 0.6873 - accuracy: 0.7965 - val_loss: 0.7051 - val_accuracy: 0.7921\n"
     ]
    },
    {
     "data": {
      "text/plain": [
       "<keras.callbacks.History at 0x185d2b54c10>"
      ]
     },
     "execution_count": 23,
     "metadata": {},
     "output_type": "execute_result"
    }
   ],
   "source": [
    "simple_rnn_model1.fit(tmp_x, preproc_plaintext_sentences, batch_size=32, epochs=15, validation_split=0.3, use_multiprocessing=True)"
   ]
  },
  {
   "cell_type": "code",
   "execution_count": 24,
   "metadata": {
    "colab": {
     "base_uri": "https://localhost:8080/"
    },
    "id": "sr0zJux1d1-_",
    "outputId": "54ac6118-4a93-4968-f8c8-1dd9a11f76f7"
   },
   "outputs": [
    {
     "name": "stdout",
     "output_type": "stream",
     "text": [
      "1 2 3 3 5 6 <PAD> <PAD> <PAD> <PAD> <PAD> <PAD> <PAD> <PAD> <PAD> <PAD> <PAD> <PAD> <PAD> <PAD> <PAD> <PAD> <PAD> <PAD> <PAD> <PAD> <PAD> <PAD> <PAD> <PAD> <PAD> <PAD>\n"
     ]
    }
   ],
   "source": [
    "print(logits_to_text(simple_rnn_model1.predict(tmp_x[:1])[0], plaintext_tokenizer))"
   ]
  },
  {
   "cell_type": "code",
   "execution_count": 26,
   "metadata": {
    "colab": {
     "base_uri": "https://localhost:8080/",
     "height": 35
    },
    "id": "fFQT3peGUOHg",
    "outputId": "659da06c-0ebb-44cf-ec44-6f90d7fc0379"
   },
   "outputs": [
    {
     "data": {
      "text/plain": [
       "'123456'"
      ]
     },
     "execution_count": 26,
     "metadata": {},
     "output_type": "execute_result"
    }
   ],
   "source": [
    "df['Passwords'][0]"
   ]
  },
  {
   "cell_type": "markdown",
   "metadata": {
    "id": "DHjZkjOzd1_A"
   },
   "source": [
    "# SimpleRNN"
   ]
  },
  {
   "cell_type": "code",
   "execution_count": 27,
   "metadata": {
    "id": "baVCVerFd1_A"
   },
   "outputs": [],
   "source": [
    "from keras.layers import SimpleRNN \n",
    "def simple_model2(input_shape, output_sequence_length, code_vocab_size, plaintext_vocab_size):\n",
    "    x = Input(shape=input_shape[1:])      \n",
    "    seq = SimpleRNN(units= 64, return_sequences = True, activation=\"tanh\", name='Layer1')(x)   \n",
    "    output = TimeDistributed(Dense(units = plaintext_vocab_size, activation='softmax', name='Layer2'))(seq)    \n",
    "    model = Model(inputs = x, outputs = output)    \n",
    "    model.compile(optimizer='adam', loss= sparse_categorical_crossentropy, metrics=['accuracy'])    \n",
    "    model.summary()    \n",
    "    return model"
   ]
  },
  {
   "cell_type": "code",
   "execution_count": 28,
   "metadata": {
    "colab": {
     "base_uri": "https://localhost:8080/"
    },
    "id": "yieRDWbzd1_A",
    "outputId": "0db4c447-20c1-4589-f29d-150d755c913c"
   },
   "outputs": [
    {
     "name": "stdout",
     "output_type": "stream",
     "text": [
      "Model: \"model_2\"\n",
      "_________________________________________________________________\n",
      "Layer (type)                 Output Shape              Param #   \n",
      "=================================================================\n",
      "input_3 (InputLayer)         [(None, 32, 1)]           0         \n",
      "_________________________________________________________________\n",
      "Layer1 (SimpleRNN)           (None, 32, 64)            4224      \n",
      "_________________________________________________________________\n",
      "time_distributed_2 (TimeDist (None, 32, 41)            2665      \n",
      "=================================================================\n",
      "Total params: 6,889\n",
      "Trainable params: 6,889\n",
      "Non-trainable params: 0\n",
      "_________________________________________________________________\n"
     ]
    }
   ],
   "source": [
    "simple_rnn_model2 = simple_model2(\n",
    "    tmp_x.shape,\n",
    "    preproc_plaintext_sentences.shape[1],\n",
    "    len(code_tokenizer.word_index)+1,\n",
    "    len(plaintext_tokenizer.word_index)+1)"
   ]
  },
  {
   "cell_type": "code",
   "execution_count": 29,
   "metadata": {
    "colab": {
     "base_uri": "https://localhost:8080/"
    },
    "id": "Nbr40u5Gd1_A",
    "outputId": "227f6ecf-3795-46ee-85d7-04ced2d0c98b",
    "scrolled": true
   },
   "outputs": [
    {
     "name": "stdout",
     "output_type": "stream",
     "text": [
      "Epoch 1/15\n",
      "2625/2625 [==============================] - 52s 18ms/step - loss: 0.8873 - accuracy: 0.7773 - val_loss: 0.7871 - val_accuracy: 0.7842\n",
      "Epoch 2/15\n",
      "2625/2625 [==============================] - 47s 18ms/step - loss: 0.7574 - accuracy: 0.7906 - val_loss: 0.7574 - val_accuracy: 0.7872\n",
      "Epoch 3/15\n",
      "2625/2625 [==============================] - 47s 18ms/step - loss: 0.7321 - accuracy: 0.7927 - val_loss: 0.7404 - val_accuracy: 0.7890\n",
      "Epoch 4/15\n",
      "2625/2625 [==============================] - 47s 18ms/step - loss: 0.7191 - accuracy: 0.7935 - val_loss: 0.7316 - val_accuracy: 0.7898\n",
      "Epoch 5/15\n",
      "2625/2625 [==============================] - 46s 17ms/step - loss: 0.7124 - accuracy: 0.7940 - val_loss: 0.7274 - val_accuracy: 0.7898\n",
      "Epoch 6/15\n",
      "2625/2625 [==============================] - 46s 18ms/step - loss: 0.7074 - accuracy: 0.7945 - val_loss: 0.7239 - val_accuracy: 0.7896\n",
      "Epoch 7/15\n",
      "2625/2625 [==============================] - 47s 18ms/step - loss: 0.7056 - accuracy: 0.7945 - val_loss: 0.7209 - val_accuracy: 0.7904\n",
      "Epoch 8/15\n",
      "2625/2625 [==============================] - 48s 18ms/step - loss: 0.7031 - accuracy: 0.7947 - val_loss: 0.7192 - val_accuracy: 0.7907\n",
      "Epoch 9/15\n",
      "2625/2625 [==============================] - 50s 19ms/step - loss: 0.7016 - accuracy: 0.7949 - val_loss: 0.7178 - val_accuracy: 0.7904\n",
      "Epoch 10/15\n",
      "2625/2625 [==============================] - 47s 18ms/step - loss: 0.6992 - accuracy: 0.7955 - val_loss: 0.7168 - val_accuracy: 0.7911\n",
      "Epoch 11/15\n",
      "2625/2625 [==============================] - 44s 17ms/step - loss: 0.6992 - accuracy: 0.7950 - val_loss: 0.7157 - val_accuracy: 0.7911\n",
      "Epoch 12/15\n",
      "2625/2625 [==============================] - 45s 17ms/step - loss: 0.6974 - accuracy: 0.7954 - val_loss: 0.7147 - val_accuracy: 0.7909\n",
      "Epoch 13/15\n",
      "2625/2625 [==============================] - 45s 17ms/step - loss: 0.6965 - accuracy: 0.7955 - val_loss: 0.7132 - val_accuracy: 0.7913\n",
      "Epoch 14/15\n",
      "2625/2625 [==============================] - 48s 18ms/step - loss: 0.6961 - accuracy: 0.7958 - val_loss: 0.7134 - val_accuracy: 0.7912\n",
      "Epoch 15/15\n",
      "2625/2625 [==============================] - 51s 20ms/step - loss: 0.6950 - accuracy: 0.7959 - val_loss: 0.7115 - val_accuracy: 0.7915\n"
     ]
    },
    {
     "data": {
      "text/plain": [
       "<keras.callbacks.History at 0x185fc944a30>"
      ]
     },
     "execution_count": 29,
     "metadata": {},
     "output_type": "execute_result"
    }
   ],
   "source": [
    "simple_rnn_model2.fit(tmp_x, preproc_plaintext_sentences, batch_size=32, epochs=15, validation_split=0.3, use_multiprocessing=True)"
   ]
  },
  {
   "cell_type": "code",
   "execution_count": 30,
   "metadata": {
    "colab": {
     "base_uri": "https://localhost:8080/"
    },
    "id": "HYddd_hgd1_A",
    "outputId": "e20b6799-3560-4480-a15d-a356d76bd72f"
   },
   "outputs": [
    {
     "name": "stdout",
     "output_type": "stream",
     "text": [
      "1 2 8 8 7 7 <PAD> <PAD> <PAD> <PAD> <PAD> <PAD> <PAD> <PAD> <PAD> <PAD> <PAD> <PAD> <PAD> <PAD> <PAD> <PAD> <PAD> <PAD> <PAD> <PAD> <PAD> <PAD> <PAD> <PAD> <PAD> <PAD>\n"
     ]
    }
   ],
   "source": [
    "print(logits_to_text(simple_rnn_model2.predict(tmp_x[:1])[0], plaintext_tokenizer))"
   ]
  },
  {
   "cell_type": "code",
   "execution_count": 31,
   "metadata": {
    "colab": {
     "base_uri": "https://localhost:8080/",
     "height": 35
    },
    "id": "FOpT4aQHUsbA",
    "outputId": "6a111a74-a67e-42bb-eaa0-1c0b7f77c749"
   },
   "outputs": [
    {
     "data": {
      "text/plain": [
       "'123456'"
      ]
     },
     "execution_count": 31,
     "metadata": {},
     "output_type": "execute_result"
    }
   ],
   "source": [
    "df['Passwords'][0]"
   ]
  },
  {
   "cell_type": "code",
   "execution_count": null,
   "metadata": {},
   "outputs": [],
   "source": []
  }
 ],
 "metadata": {
  "colab": {
   "collapsed_sections": [],
   "name": "Deciphering Code with Character-Level RNN.ipynb",
   "provenance": []
  },
  "kernelspec": {
   "display_name": "Python 3",
   "language": "python",
   "name": "python3"
  },
  "language_info": {
   "codemirror_mode": {
    "name": "ipython",
    "version": 3
   },
   "file_extension": ".py",
   "mimetype": "text/x-python",
   "name": "python",
   "nbconvert_exporter": "python",
   "pygments_lexer": "ipython3",
   "version": "3.8.5"
  }
 },
 "nbformat": 4,
 "nbformat_minor": 1
}
